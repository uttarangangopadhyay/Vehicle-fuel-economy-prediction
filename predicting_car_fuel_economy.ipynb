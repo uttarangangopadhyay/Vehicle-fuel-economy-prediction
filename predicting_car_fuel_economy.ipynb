{
  "metadata": {
    "kernelspec": {
      "language": "python",
      "display_name": "Python 3",
      "name": "python3"
    },
    "language_info": {
      "name": "python",
      "version": "3.7.6",
      "mimetype": "text/x-python",
      "codemirror_mode": {
        "name": "ipython",
        "version": 3
      },
      "pygments_lexer": "ipython3",
      "nbconvert_exporter": "python",
      "file_extension": ".py"
    },
    "colab": {
      "name": "predicting car fuel economy.ipynb",
      "provenance": [],
      "collapsed_sections": [
        "I0Gt3pVkcBCo",
        "CL7qksbzcBCr",
        "buwKFEbXcBC0",
        "mQrgDuIIcBC7",
        "ZM4ZfWkRcBC7",
        "WTebtn8-cBC8",
        "Ab7sorn_cBC9"
      ]
    }
  },
  "nbformat_minor": 0,
  "nbformat": 4,
  "cells": [
    {
      "cell_type": "markdown",
      "source": [
        "**Car fuel economy analysis and prediction**\n",
        "\n",
        "*Uttaran Gangopadhyay*\n",
        "\n",
        "Dataset link - https://www.kaggle.com/epa/fuel-economy.\n",
        "\n",
        "The objective is to predict the fuel economy of a vehicle based on its characteristics."
      ],
      "metadata": {
        "id": "nlxLMd_FcBCb"
      }
    },
    {
      "cell_type": "code",
      "source": [
        "import numpy as np # linear algebra\n",
        "import pandas as pd # data processing, CSV file I/O (e.g. pd.read_csv)\n",
        "%matplotlib inline"
      ],
      "metadata": {
        "_uuid": "8f2839f25d086af736a60e9eeb907d3b93b6e0e5",
        "_cell_guid": "b1076dfc-b9ad-4769-8c92-a6c4dae69d19",
        "execution": {
          "iopub.status.busy": "2022-06-30T07:00:17.086106Z",
          "iopub.execute_input": "2022-06-30T07:00:17.086605Z",
          "iopub.status.idle": "2022-06-30T07:00:17.093277Z",
          "shell.execute_reply.started": "2022-06-30T07:00:17.086572Z",
          "shell.execute_reply": "2022-06-30T07:00:17.092085Z"
        },
        "trusted": true,
        "id": "aHZT22DFcBCd"
      },
      "execution_count": null,
      "outputs": []
    },
    {
      "cell_type": "markdown",
      "source": [
        "We will first read the data in and look at some basic information."
      ],
      "metadata": {
        "id": "DjO4gxmqcBCe"
      }
    },
    {
      "cell_type": "code",
      "source": [
        "# ignore warning about \"Dtypes\"\n",
        "cars = pd.read_csv('/kaggle/input/fuel-economy/database.csv')"
      ],
      "metadata": {
        "execution": {
          "iopub.status.busy": "2022-06-30T07:00:17.103670Z",
          "iopub.execute_input": "2022-06-30T07:00:17.104100Z",
          "iopub.status.idle": "2022-06-30T07:00:17.548097Z",
          "shell.execute_reply.started": "2022-06-30T07:00:17.104056Z",
          "shell.execute_reply": "2022-06-30T07:00:17.546937Z"
        },
        "trusted": true,
        "id": "yxTZbcMmcBCf",
        "outputId": "8bf3ffa4-938d-4e49-b565-7e16742c339c"
      },
      "execution_count": null,
      "outputs": [
        {
          "name": "stderr",
          "text": "/opt/conda/lib/python3.7/site-packages/IPython/core/interactiveshell.py:3063: DtypeWarning: Columns (7,16,62,64,65,67,68,78) have mixed types.Specify dtype option on import or set low_memory=False.\n  interactivity=interactivity, compiler=compiler, result=result)\n",
          "output_type": "stream"
        }
      ]
    },
    {
      "cell_type": "code",
      "source": [
        "# print out the number of rows and columns (dimensions)\n",
        "cars.shape"
      ],
      "metadata": {
        "execution": {
          "iopub.status.busy": "2022-06-30T07:00:17.550606Z",
          "iopub.execute_input": "2022-06-30T07:00:17.551072Z",
          "iopub.status.idle": "2022-06-30T07:00:17.559110Z",
          "shell.execute_reply.started": "2022-06-30T07:00:17.551004Z",
          "shell.execute_reply": "2022-06-30T07:00:17.557985Z"
        },
        "trusted": true,
        "id": "SkpjZkhVcBCg",
        "outputId": "d2c2b4f5-9b34-4f82-d321-b4a24e1e3ce9"
      },
      "execution_count": null,
      "outputs": [
        {
          "execution_count": 3,
          "output_type": "execute_result",
          "data": {
            "text/plain": "(38113, 81)"
          },
          "metadata": {}
        }
      ]
    },
    {
      "cell_type": "code",
      "source": [
        "# print the names of the columns\n",
        "cars.columns"
      ],
      "metadata": {
        "_uuid": "d629ff2d2480ee46fbb7e2d37f6b5fab8052498a",
        "_cell_guid": "79c7e3d0-c299-4dcb-8224-4455121ee9b0",
        "execution": {
          "iopub.status.busy": "2022-06-30T07:00:17.561174Z",
          "iopub.execute_input": "2022-06-30T07:00:17.561479Z",
          "iopub.status.idle": "2022-06-30T07:00:17.574158Z",
          "shell.execute_reply.started": "2022-06-30T07:00:17.561448Z",
          "shell.execute_reply": "2022-06-30T07:00:17.572840Z"
        },
        "trusted": true,
        "id": "Do1bUQWFcBCh",
        "outputId": "eeac6cad-9d2b-4412-871e-2d69a35971a0"
      },
      "execution_count": null,
      "outputs": [
        {
          "execution_count": 4,
          "output_type": "execute_result",
          "data": {
            "text/plain": "Index(['Vehicle ID', 'Year', 'Make', 'Model', 'Class', 'Drive', 'Transmission',\n       'Transmission Descriptor', 'Engine Index', 'Engine Descriptor',\n       'Engine Cylinders', 'Engine Displacement', 'Turbocharger',\n       'Supercharger', 'Fuel Type', 'Fuel Type 1', 'Fuel Type 2',\n       'City MPG (FT1)', 'Unrounded City MPG (FT1)', 'City MPG (FT2)',\n       'Unrounded City MPG (FT2)', 'City Gasoline Consumption (CD)',\n       'City Electricity Consumption', 'City Utility Factor',\n       'Highway MPG (FT1)', 'Unrounded Highway MPG (FT1)', 'Highway MPG (FT2)',\n       'Unrounded Highway MPG (FT2)', 'Highway Gasoline Consumption (CD)',\n       'Highway Electricity Consumption', 'Highway Utility Factor',\n       'Unadjusted City MPG (FT1)', 'Unadjusted Highway MPG (FT1)',\n       'Unadjusted City MPG (FT2)', 'Unadjusted Highway MPG (FT2)',\n       'Combined MPG (FT1)', 'Unrounded Combined MPG (FT1)',\n       'Combined MPG (FT2)', 'Unrounded Combined MPG (FT2)',\n       'Combined Electricity Consumption',\n       'Combined Gasoline Consumption (CD)', 'Combined Utility Factor',\n       'Annual Fuel Cost (FT1)', 'Annual Fuel Cost (FT2)', 'Gas Guzzler Tax',\n       'Save or Spend (5 Year)', 'Annual Consumption in Barrels (FT1)',\n       'Annual Consumption in Barrels (FT2)', 'Tailpipe CO2 (FT1)',\n       'Tailpipe CO2 in Grams/Mile (FT1)', 'Tailpipe CO2 (FT2)',\n       'Tailpipe CO2 in Grams/Mile (FT2)', 'Fuel Economy Score', 'GHG Score',\n       'GHG Score (Alt Fuel)', 'My MPG Data', '2D Passenger Volume',\n       '2D Luggage Volume', '4D Passenger Volume', '4D Luggage Volume',\n       'Hatchback Passenger Volume', 'Hatchback Luggage Volume',\n       'Start Stop Technology', 'Alternative Fuel/Technology',\n       'Electric Motor', 'Manufacturer Code',\n       'Gasoline/Electricity Blended (CD)', 'Vehicle Charger',\n       'Alternate Charger', 'Hours to Charge (120V)', 'Hours to Charge (240V)',\n       'Hours to Charge (AC 240V)', 'Composite City MPG',\n       'Composite Highway MPG', 'Composite Combined MPG', 'Range (FT1)',\n       'City Range (FT1)', 'Highway Range (FT1)', 'Range (FT2)',\n       'City Range (FT2)', 'Highway Range (FT2)'],\n      dtype='object')"
          },
          "metadata": {}
        }
      ]
    },
    {
      "cell_type": "markdown",
      "source": [
        "There are too many columns to analyse right now so I'm going to focus on a few. Columns related to MPG all say the same thing so I'll pick one. Also the columns that come after the MPG columns don't look very relevant so we'll skip them as well."
      ],
      "metadata": {
        "id": "Lz56bE8IcBCi"
      }
    },
    {
      "cell_type": "code",
      "source": [
        "cars = cars[['Vehicle ID', 'Year', 'Make', 'Model', 'Class', 'Drive', 'Transmission',\n",
        "            'Transmission Descriptor', 'Engine Index', 'Engine Descriptor',\n",
        "           'Engine Cylinders', 'Engine Displacement', 'Turbocharger',\n",
        "           'Supercharger', 'Fuel Type', 'Fuel Type 1',\n",
        "            'Combined MPG (FT1)']]\n",
        "cars.shape"
      ],
      "metadata": {
        "execution": {
          "iopub.status.busy": "2022-06-30T07:00:17.575886Z",
          "iopub.execute_input": "2022-06-30T07:00:17.576428Z",
          "iopub.status.idle": "2022-06-30T07:00:17.602623Z",
          "shell.execute_reply.started": "2022-06-30T07:00:17.576395Z",
          "shell.execute_reply": "2022-06-30T07:00:17.601477Z"
        },
        "trusted": true,
        "id": "NdPHDnTvcBCi",
        "outputId": "7cd56aaa-205c-40fb-e5d2-6a626f22441e"
      },
      "execution_count": null,
      "outputs": [
        {
          "execution_count": 5,
          "output_type": "execute_result",
          "data": {
            "text/plain": "(38113, 17)"
          },
          "metadata": {}
        }
      ]
    },
    {
      "cell_type": "markdown",
      "source": [
        "The easiest way to get to know your data is to have a look at it in its raw form."
      ],
      "metadata": {
        "id": "Ot3H0QwPcBCj"
      }
    },
    {
      "cell_type": "code",
      "source": [
        "# print first 5 rows\n",
        "cars.head()"
      ],
      "metadata": {
        "execution": {
          "iopub.status.busy": "2022-06-30T07:00:17.605989Z",
          "iopub.execute_input": "2022-06-30T07:00:17.606413Z",
          "iopub.status.idle": "2022-06-30T07:00:17.633066Z",
          "shell.execute_reply.started": "2022-06-30T07:00:17.606375Z",
          "shell.execute_reply": "2022-06-30T07:00:17.632147Z"
        },
        "trusted": true,
        "id": "s9xB13WbcBCk",
        "outputId": "99a8fef6-22dd-4890-cbf8-c58571329709"
      },
      "execution_count": null,
      "outputs": [
        {
          "execution_count": 6,
          "output_type": "execute_result",
          "data": {
            "text/plain": "   Vehicle ID  Year        Make               Model  \\\n0       26587  1984  Alfa Romeo           GT V6 2.5   \n1       27705  1984  Alfa Romeo           GT V6 2.5   \n2       26561  1984  Alfa Romeo  Spider Veloce 2000   \n3       27681  1984  Alfa Romeo  Spider Veloce 2000   \n4       27550  1984  AM General   DJ Po Vehicle 2WD   \n\n                         Class          Drive       Transmission  \\\n0             Minicompact Cars            NaN     Manual 5-Speed   \n1             Minicompact Cars            NaN     Manual 5-Speed   \n2                  Two Seaters            NaN     Manual 5-Speed   \n3                  Two Seaters            NaN     Manual 5-Speed   \n4  Special Purpose Vehicle 2WD  2-Wheel Drive  Automatic 3-Speed   \n\n  Transmission Descriptor  Engine Index Engine Descriptor  Engine Cylinders  \\\n0                     NaN          9001             (FFS)               6.0   \n1                     NaN          9005    (FFS) CA model               6.0   \n2                     NaN          9002             (FFS)               4.0   \n3                     NaN          9006    (FFS) CA model               4.0   \n4                     NaN          1830             (FFS)               4.0   \n\n   Engine Displacement Turbocharger Supercharger Fuel Type       Fuel Type 1  \\\n0                  2.5          NaN          NaN   Regular  Regular Gasoline   \n1                  2.5          NaN          NaN   Regular  Regular Gasoline   \n2                  2.0          NaN          NaN   Regular  Regular Gasoline   \n3                  2.0          NaN          NaN   Regular  Regular Gasoline   \n4                  2.5          NaN          NaN   Regular  Regular Gasoline   \n\n   Combined MPG (FT1)  \n0                  20  \n1                  20  \n2                  21  \n3                  21  \n4                  17  ",
            "text/html": "<div>\n<style scoped>\n    .dataframe tbody tr th:only-of-type {\n        vertical-align: middle;\n    }\n\n    .dataframe tbody tr th {\n        vertical-align: top;\n    }\n\n    .dataframe thead th {\n        text-align: right;\n    }\n</style>\n<table border=\"1\" class=\"dataframe\">\n  <thead>\n    <tr style=\"text-align: right;\">\n      <th></th>\n      <th>Vehicle ID</th>\n      <th>Year</th>\n      <th>Make</th>\n      <th>Model</th>\n      <th>Class</th>\n      <th>Drive</th>\n      <th>Transmission</th>\n      <th>Transmission Descriptor</th>\n      <th>Engine Index</th>\n      <th>Engine Descriptor</th>\n      <th>Engine Cylinders</th>\n      <th>Engine Displacement</th>\n      <th>Turbocharger</th>\n      <th>Supercharger</th>\n      <th>Fuel Type</th>\n      <th>Fuel Type 1</th>\n      <th>Combined MPG (FT1)</th>\n    </tr>\n  </thead>\n  <tbody>\n    <tr>\n      <th>0</th>\n      <td>26587</td>\n      <td>1984</td>\n      <td>Alfa Romeo</td>\n      <td>GT V6 2.5</td>\n      <td>Minicompact Cars</td>\n      <td>NaN</td>\n      <td>Manual 5-Speed</td>\n      <td>NaN</td>\n      <td>9001</td>\n      <td>(FFS)</td>\n      <td>6.0</td>\n      <td>2.5</td>\n      <td>NaN</td>\n      <td>NaN</td>\n      <td>Regular</td>\n      <td>Regular Gasoline</td>\n      <td>20</td>\n    </tr>\n    <tr>\n      <th>1</th>\n      <td>27705</td>\n      <td>1984</td>\n      <td>Alfa Romeo</td>\n      <td>GT V6 2.5</td>\n      <td>Minicompact Cars</td>\n      <td>NaN</td>\n      <td>Manual 5-Speed</td>\n      <td>NaN</td>\n      <td>9005</td>\n      <td>(FFS) CA model</td>\n      <td>6.0</td>\n      <td>2.5</td>\n      <td>NaN</td>\n      <td>NaN</td>\n      <td>Regular</td>\n      <td>Regular Gasoline</td>\n      <td>20</td>\n    </tr>\n    <tr>\n      <th>2</th>\n      <td>26561</td>\n      <td>1984</td>\n      <td>Alfa Romeo</td>\n      <td>Spider Veloce 2000</td>\n      <td>Two Seaters</td>\n      <td>NaN</td>\n      <td>Manual 5-Speed</td>\n      <td>NaN</td>\n      <td>9002</td>\n      <td>(FFS)</td>\n      <td>4.0</td>\n      <td>2.0</td>\n      <td>NaN</td>\n      <td>NaN</td>\n      <td>Regular</td>\n      <td>Regular Gasoline</td>\n      <td>21</td>\n    </tr>\n    <tr>\n      <th>3</th>\n      <td>27681</td>\n      <td>1984</td>\n      <td>Alfa Romeo</td>\n      <td>Spider Veloce 2000</td>\n      <td>Two Seaters</td>\n      <td>NaN</td>\n      <td>Manual 5-Speed</td>\n      <td>NaN</td>\n      <td>9006</td>\n      <td>(FFS) CA model</td>\n      <td>4.0</td>\n      <td>2.0</td>\n      <td>NaN</td>\n      <td>NaN</td>\n      <td>Regular</td>\n      <td>Regular Gasoline</td>\n      <td>21</td>\n    </tr>\n    <tr>\n      <th>4</th>\n      <td>27550</td>\n      <td>1984</td>\n      <td>AM General</td>\n      <td>DJ Po Vehicle 2WD</td>\n      <td>Special Purpose Vehicle 2WD</td>\n      <td>2-Wheel Drive</td>\n      <td>Automatic 3-Speed</td>\n      <td>NaN</td>\n      <td>1830</td>\n      <td>(FFS)</td>\n      <td>4.0</td>\n      <td>2.5</td>\n      <td>NaN</td>\n      <td>NaN</td>\n      <td>Regular</td>\n      <td>Regular Gasoline</td>\n      <td>17</td>\n    </tr>\n  </tbody>\n</table>\n</div>"
          },
          "metadata": {}
        }
      ]
    },
    {
      "cell_type": "code",
      "source": [
        "cars.tail()"
      ],
      "metadata": {
        "execution": {
          "iopub.status.busy": "2022-06-30T07:00:17.636000Z",
          "iopub.execute_input": "2022-06-30T07:00:17.636336Z",
          "iopub.status.idle": "2022-06-30T07:00:17.659324Z",
          "shell.execute_reply.started": "2022-06-30T07:00:17.636303Z",
          "shell.execute_reply": "2022-06-30T07:00:17.657981Z"
        },
        "trusted": true,
        "id": "Kn5QGT6wcBCk",
        "outputId": "55e378c0-5899-4836-8ec7-99b9159109e7"
      },
      "execution_count": null,
      "outputs": [
        {
          "execution_count": 7,
          "output_type": "execute_result",
          "data": {
            "text/plain": "       Vehicle ID  Year   Make          Model  \\\n38108       37564  2017  Volvo       XC60 FWD   \n38109       37547  2017  Volvo       XC90 AWD   \n38110       37548  2017  Volvo       XC90 AWD   \n38111       37703  2017  Volvo  XC90 AWD PHEV   \n38112       37687  2017  Volvo       XC90 FWD   \n\n                                    Class              Drive    Transmission  \\\n38108     Small Sport Utility Vehicle 2WD  Front-Wheel Drive  Automatic (S8)   \n38109  Standard Sport Utility Vehicle 4WD    All-Wheel Drive  Automatic (S8)   \n38110  Standard Sport Utility Vehicle 4WD    All-Wheel Drive  Automatic (S8)   \n38111  Standard Sport Utility Vehicle 4WD    All-Wheel Drive  Automatic (S8)   \n38112  Standard Sport Utility Vehicle 2WD  Front-Wheel Drive  Automatic (S8)   \n\n      Transmission Descriptor  Engine Index Engine Descriptor  \\\n38108                     NaN            90              SIDI   \n38109                     NaN            52              SIDI   \n38110                     NaN            53              SIDI   \n38111                     NaN            54        SIDI; PHEV   \n38112                     NaN            50              SIDI   \n\n       Engine Cylinders  Engine Displacement Turbocharger Supercharger  \\\n38108               4.0                  2.0            T          NaN   \n38109               4.0                  2.0            T            S   \n38110               4.0                  2.0            T          NaN   \n38111               4.0                  2.0            T            S   \n38112               4.0                  2.0            T          NaN   \n\n                     Fuel Type       Fuel Type 1  Combined MPG (FT1)  \n38108                  Regular  Regular Gasoline                  26  \n38109                  Premium  Premium Gasoline                  22  \n38110                  Premium  Premium Gasoline                  23  \n38111  Premium and Electricity  Premium Gasoline                  25  \n38112                  Premium  Premium Gasoline                  24  ",
            "text/html": "<div>\n<style scoped>\n    .dataframe tbody tr th:only-of-type {\n        vertical-align: middle;\n    }\n\n    .dataframe tbody tr th {\n        vertical-align: top;\n    }\n\n    .dataframe thead th {\n        text-align: right;\n    }\n</style>\n<table border=\"1\" class=\"dataframe\">\n  <thead>\n    <tr style=\"text-align: right;\">\n      <th></th>\n      <th>Vehicle ID</th>\n      <th>Year</th>\n      <th>Make</th>\n      <th>Model</th>\n      <th>Class</th>\n      <th>Drive</th>\n      <th>Transmission</th>\n      <th>Transmission Descriptor</th>\n      <th>Engine Index</th>\n      <th>Engine Descriptor</th>\n      <th>Engine Cylinders</th>\n      <th>Engine Displacement</th>\n      <th>Turbocharger</th>\n      <th>Supercharger</th>\n      <th>Fuel Type</th>\n      <th>Fuel Type 1</th>\n      <th>Combined MPG (FT1)</th>\n    </tr>\n  </thead>\n  <tbody>\n    <tr>\n      <th>38108</th>\n      <td>37564</td>\n      <td>2017</td>\n      <td>Volvo</td>\n      <td>XC60 FWD</td>\n      <td>Small Sport Utility Vehicle 2WD</td>\n      <td>Front-Wheel Drive</td>\n      <td>Automatic (S8)</td>\n      <td>NaN</td>\n      <td>90</td>\n      <td>SIDI</td>\n      <td>4.0</td>\n      <td>2.0</td>\n      <td>T</td>\n      <td>NaN</td>\n      <td>Regular</td>\n      <td>Regular Gasoline</td>\n      <td>26</td>\n    </tr>\n    <tr>\n      <th>38109</th>\n      <td>37547</td>\n      <td>2017</td>\n      <td>Volvo</td>\n      <td>XC90 AWD</td>\n      <td>Standard Sport Utility Vehicle 4WD</td>\n      <td>All-Wheel Drive</td>\n      <td>Automatic (S8)</td>\n      <td>NaN</td>\n      <td>52</td>\n      <td>SIDI</td>\n      <td>4.0</td>\n      <td>2.0</td>\n      <td>T</td>\n      <td>S</td>\n      <td>Premium</td>\n      <td>Premium Gasoline</td>\n      <td>22</td>\n    </tr>\n    <tr>\n      <th>38110</th>\n      <td>37548</td>\n      <td>2017</td>\n      <td>Volvo</td>\n      <td>XC90 AWD</td>\n      <td>Standard Sport Utility Vehicle 4WD</td>\n      <td>All-Wheel Drive</td>\n      <td>Automatic (S8)</td>\n      <td>NaN</td>\n      <td>53</td>\n      <td>SIDI</td>\n      <td>4.0</td>\n      <td>2.0</td>\n      <td>T</td>\n      <td>NaN</td>\n      <td>Premium</td>\n      <td>Premium Gasoline</td>\n      <td>23</td>\n    </tr>\n    <tr>\n      <th>38111</th>\n      <td>37703</td>\n      <td>2017</td>\n      <td>Volvo</td>\n      <td>XC90 AWD PHEV</td>\n      <td>Standard Sport Utility Vehicle 4WD</td>\n      <td>All-Wheel Drive</td>\n      <td>Automatic (S8)</td>\n      <td>NaN</td>\n      <td>54</td>\n      <td>SIDI; PHEV</td>\n      <td>4.0</td>\n      <td>2.0</td>\n      <td>T</td>\n      <td>S</td>\n      <td>Premium and Electricity</td>\n      <td>Premium Gasoline</td>\n      <td>25</td>\n    </tr>\n    <tr>\n      <th>38112</th>\n      <td>37687</td>\n      <td>2017</td>\n      <td>Volvo</td>\n      <td>XC90 FWD</td>\n      <td>Standard Sport Utility Vehicle 2WD</td>\n      <td>Front-Wheel Drive</td>\n      <td>Automatic (S8)</td>\n      <td>NaN</td>\n      <td>50</td>\n      <td>SIDI</td>\n      <td>4.0</td>\n      <td>2.0</td>\n      <td>T</td>\n      <td>NaN</td>\n      <td>Premium</td>\n      <td>Premium Gasoline</td>\n      <td>24</td>\n    </tr>\n  </tbody>\n</table>\n</div>"
          },
          "metadata": {}
        }
      ]
    },
    {
      "cell_type": "markdown",
      "source": [
        "Some early observations about the data:\n",
        "* Some columns have missing values (NaNs)\n",
        "* There is a mix of numeric columns and categorical columns\n",
        "* The MPG column is a integer value whereas Engine Cylinders and Engine Displacement are not. Doesn't make sense for Engine Cylinders to be a decimal value, will require further investigation\n",
        "* Turbocharger and Supercharger only seem to have two values (missing or T/S)\n",
        "* Possible duplication of vehicles (at least when looking at the columns of interest)\n",
        "\n",
        "Next we go one step deeper and look at all the data and summaries of the values."
      ],
      "metadata": {
        "id": "dmDBNmEbcBCl"
      }
    },
    {
      "cell_type": "code",
      "source": [
        "cars.info()"
      ],
      "metadata": {
        "execution": {
          "iopub.status.busy": "2022-06-30T07:00:17.661670Z",
          "iopub.execute_input": "2022-06-30T07:00:17.662134Z",
          "iopub.status.idle": "2022-06-30T07:00:17.704520Z",
          "shell.execute_reply.started": "2022-06-30T07:00:17.662086Z",
          "shell.execute_reply": "2022-06-30T07:00:17.703331Z"
        },
        "trusted": true,
        "id": "WceGM6v2cBCm",
        "outputId": "c9f3071a-c1e3-4776-bca9-f2c5859da196"
      },
      "execution_count": null,
      "outputs": [
        {
          "name": "stdout",
          "text": "<class 'pandas.core.frame.DataFrame'>\nRangeIndex: 38113 entries, 0 to 38112\nData columns (total 17 columns):\n #   Column                   Non-Null Count  Dtype  \n---  ------                   --------------  -----  \n 0   Vehicle ID               38113 non-null  int64  \n 1   Year                     38113 non-null  int64  \n 2   Make                     38113 non-null  object \n 3   Model                    38113 non-null  object \n 4   Class                    38113 non-null  object \n 5   Drive                    36924 non-null  object \n 6   Transmission             38102 non-null  object \n 7   Transmission Descriptor  15045 non-null  object \n 8   Engine Index             38113 non-null  int64  \n 9   Engine Descriptor        22693 non-null  object \n 10  Engine Cylinders         37977 non-null  float64\n 11  Engine Displacement      37979 non-null  float64\n 12  Turbocharger             5239 non-null   object \n 13  Supercharger             693 non-null    object \n 14  Fuel Type                38113 non-null  object \n 15  Fuel Type 1              38113 non-null  object \n 16  Combined MPG (FT1)       38113 non-null  int64  \ndtypes: float64(2), int64(4), object(11)\nmemory usage: 4.9+ MB\n",
          "output_type": "stream"
        }
      ]
    },
    {
      "cell_type": "markdown",
      "source": [
        "Here we see some columns have a considerable amount of missing values. We will need to consider what we do with these values later one. We also see here confirmed that all values in certain columns are of the same type."
      ],
      "metadata": {
        "id": "TWRc4E0ycBCn"
      }
    },
    {
      "cell_type": "code",
      "source": [
        "cars.describe()"
      ],
      "metadata": {
        "execution": {
          "iopub.status.busy": "2022-06-30T07:00:17.705967Z",
          "iopub.execute_input": "2022-06-30T07:00:17.706422Z",
          "iopub.status.idle": "2022-06-30T07:00:17.749197Z",
          "shell.execute_reply.started": "2022-06-30T07:00:17.706375Z",
          "shell.execute_reply": "2022-06-30T07:00:17.747898Z"
        },
        "trusted": true,
        "id": "DyP_LQ03cBCn",
        "outputId": "96faeef1-2c59-4b07-f6cf-33c9681db495"
      },
      "execution_count": null,
      "outputs": [
        {
          "execution_count": 9,
          "output_type": "execute_result",
          "data": {
            "text/plain": "         Vehicle ID          Year  Engine Index  Engine Cylinders  \\\ncount  38113.000000  38113.000000  38113.000000      37977.000000   \nmean   19170.638496   2000.194527   8799.389001          5.736656   \nstd    11134.878665     10.464573  17781.058490          1.752254   \nmin        1.000000   1984.000000      0.000000          2.000000   \n25%     9529.000000   1991.000000      0.000000          4.000000   \n50%    19058.000000   2001.000000    212.000000          6.000000   \n75%    28779.000000   2009.000000   4451.000000          6.000000   \nmax    38542.000000   2017.000000  69102.000000         16.000000   \n\n       Engine Displacement  Combined MPG (FT1)  \ncount         37979.000000        38113.000000  \nmean              3.317583           20.216068  \nstd               1.361995            6.772655  \nmin               0.000000            7.000000  \n25%               2.200000           17.000000  \n50%               3.000000           19.000000  \n75%               4.300000           23.000000  \nmax               8.400000          136.000000  ",
            "text/html": "<div>\n<style scoped>\n    .dataframe tbody tr th:only-of-type {\n        vertical-align: middle;\n    }\n\n    .dataframe tbody tr th {\n        vertical-align: top;\n    }\n\n    .dataframe thead th {\n        text-align: right;\n    }\n</style>\n<table border=\"1\" class=\"dataframe\">\n  <thead>\n    <tr style=\"text-align: right;\">\n      <th></th>\n      <th>Vehicle ID</th>\n      <th>Year</th>\n      <th>Engine Index</th>\n      <th>Engine Cylinders</th>\n      <th>Engine Displacement</th>\n      <th>Combined MPG (FT1)</th>\n    </tr>\n  </thead>\n  <tbody>\n    <tr>\n      <th>count</th>\n      <td>38113.000000</td>\n      <td>38113.000000</td>\n      <td>38113.000000</td>\n      <td>37977.000000</td>\n      <td>37979.000000</td>\n      <td>38113.000000</td>\n    </tr>\n    <tr>\n      <th>mean</th>\n      <td>19170.638496</td>\n      <td>2000.194527</td>\n      <td>8799.389001</td>\n      <td>5.736656</td>\n      <td>3.317583</td>\n      <td>20.216068</td>\n    </tr>\n    <tr>\n      <th>std</th>\n      <td>11134.878665</td>\n      <td>10.464573</td>\n      <td>17781.058490</td>\n      <td>1.752254</td>\n      <td>1.361995</td>\n      <td>6.772655</td>\n    </tr>\n    <tr>\n      <th>min</th>\n      <td>1.000000</td>\n      <td>1984.000000</td>\n      <td>0.000000</td>\n      <td>2.000000</td>\n      <td>0.000000</td>\n      <td>7.000000</td>\n    </tr>\n    <tr>\n      <th>25%</th>\n      <td>9529.000000</td>\n      <td>1991.000000</td>\n      <td>0.000000</td>\n      <td>4.000000</td>\n      <td>2.200000</td>\n      <td>17.000000</td>\n    </tr>\n    <tr>\n      <th>50%</th>\n      <td>19058.000000</td>\n      <td>2001.000000</td>\n      <td>212.000000</td>\n      <td>6.000000</td>\n      <td>3.000000</td>\n      <td>19.000000</td>\n    </tr>\n    <tr>\n      <th>75%</th>\n      <td>28779.000000</td>\n      <td>2009.000000</td>\n      <td>4451.000000</td>\n      <td>6.000000</td>\n      <td>4.300000</td>\n      <td>23.000000</td>\n    </tr>\n    <tr>\n      <th>max</th>\n      <td>38542.000000</td>\n      <td>2017.000000</td>\n      <td>69102.000000</td>\n      <td>16.000000</td>\n      <td>8.400000</td>\n      <td>136.000000</td>\n    </tr>\n  </tbody>\n</table>\n</div>"
          },
          "metadata": {}
        }
      ]
    },
    {
      "cell_type": "markdown",
      "source": [
        "Looking at summary values is more difficult. What we're looking for is anything out of the ordinary. We can safely ignore the *Vehicle ID* and *Engine Index* values as these don't mean anything. As for *Year* we can confirm that the data is for the period 1984 and 2017. \n",
        "\n",
        "**All prior information about the data is an assumption until confirmed by the data**\n",
        "\n",
        "Looking at Engine Cylinders and MPG we may have an outlier that we have to deal with. Outliers are important because they tend to have an outsized effect on the model results. Finally, in the Engine Displacement column we see a minimum of zero which may point to an error."
      ],
      "metadata": {
        "id": "_c6ex6v2cBCn"
      }
    },
    {
      "cell_type": "markdown",
      "source": [
        "### Duplicates\n",
        "\n",
        "Duplicated data can be caused by errors during data entry or during data collection. For example, your SQL query may have included a join which resulted in duplicates. If all records were duplicated then it's not a huge problem other than that you have too much data and training your model may take extra time. However if only some records are duplicated their effect on the model results will be enlarged.\n",
        "\n",
        "In this example it's not straightforward that we're dealing with duplicates. Take the first rows:"
      ],
      "metadata": {
        "id": "I0Gt3pVkcBCo"
      }
    },
    {
      "cell_type": "code",
      "source": [
        "cars.head(2)"
      ],
      "metadata": {
        "execution": {
          "iopub.status.busy": "2022-06-30T07:00:17.750587Z",
          "iopub.execute_input": "2022-06-30T07:00:17.750944Z",
          "iopub.status.idle": "2022-06-30T07:00:17.770101Z",
          "shell.execute_reply.started": "2022-06-30T07:00:17.750913Z",
          "shell.execute_reply": "2022-06-30T07:00:17.769097Z"
        },
        "trusted": true,
        "id": "eSNPrxnjcBCp",
        "outputId": "33d6b91b-40cf-4169-b6ce-435a2e1408d4"
      },
      "execution_count": null,
      "outputs": [
        {
          "execution_count": 10,
          "output_type": "execute_result",
          "data": {
            "text/plain": "   Vehicle ID  Year        Make      Model             Class Drive  \\\n0       26587  1984  Alfa Romeo  GT V6 2.5  Minicompact Cars   NaN   \n1       27705  1984  Alfa Romeo  GT V6 2.5  Minicompact Cars   NaN   \n\n     Transmission Transmission Descriptor  Engine Index Engine Descriptor  \\\n0  Manual 5-Speed                     NaN          9001             (FFS)   \n1  Manual 5-Speed                     NaN          9005    (FFS) CA model   \n\n   Engine Cylinders  Engine Displacement Turbocharger Supercharger Fuel Type  \\\n0               6.0                  2.5          NaN          NaN   Regular   \n1               6.0                  2.5          NaN          NaN   Regular   \n\n        Fuel Type 1  Combined MPG (FT1)  \n0  Regular Gasoline                  20  \n1  Regular Gasoline                  20  ",
            "text/html": "<div>\n<style scoped>\n    .dataframe tbody tr th:only-of-type {\n        vertical-align: middle;\n    }\n\n    .dataframe tbody tr th {\n        vertical-align: top;\n    }\n\n    .dataframe thead th {\n        text-align: right;\n    }\n</style>\n<table border=\"1\" class=\"dataframe\">\n  <thead>\n    <tr style=\"text-align: right;\">\n      <th></th>\n      <th>Vehicle ID</th>\n      <th>Year</th>\n      <th>Make</th>\n      <th>Model</th>\n      <th>Class</th>\n      <th>Drive</th>\n      <th>Transmission</th>\n      <th>Transmission Descriptor</th>\n      <th>Engine Index</th>\n      <th>Engine Descriptor</th>\n      <th>Engine Cylinders</th>\n      <th>Engine Displacement</th>\n      <th>Turbocharger</th>\n      <th>Supercharger</th>\n      <th>Fuel Type</th>\n      <th>Fuel Type 1</th>\n      <th>Combined MPG (FT1)</th>\n    </tr>\n  </thead>\n  <tbody>\n    <tr>\n      <th>0</th>\n      <td>26587</td>\n      <td>1984</td>\n      <td>Alfa Romeo</td>\n      <td>GT V6 2.5</td>\n      <td>Minicompact Cars</td>\n      <td>NaN</td>\n      <td>Manual 5-Speed</td>\n      <td>NaN</td>\n      <td>9001</td>\n      <td>(FFS)</td>\n      <td>6.0</td>\n      <td>2.5</td>\n      <td>NaN</td>\n      <td>NaN</td>\n      <td>Regular</td>\n      <td>Regular Gasoline</td>\n      <td>20</td>\n    </tr>\n    <tr>\n      <th>1</th>\n      <td>27705</td>\n      <td>1984</td>\n      <td>Alfa Romeo</td>\n      <td>GT V6 2.5</td>\n      <td>Minicompact Cars</td>\n      <td>NaN</td>\n      <td>Manual 5-Speed</td>\n      <td>NaN</td>\n      <td>9005</td>\n      <td>(FFS) CA model</td>\n      <td>6.0</td>\n      <td>2.5</td>\n      <td>NaN</td>\n      <td>NaN</td>\n      <td>Regular</td>\n      <td>Regular Gasoline</td>\n      <td>20</td>\n    </tr>\n  </tbody>\n</table>\n</div>"
          },
          "metadata": {}
        }
      ]
    },
    {
      "cell_type": "markdown",
      "source": [
        "It's the same car except for the Engine Index/Descriptor but that doesn't seem to have an impact on the MPG. However we can't make that conclusion based on only one example. So we want to look at a subset of columns to judge duplicates."
      ],
      "metadata": {
        "id": "-6QEkeHrcBCp"
      }
    },
    {
      "cell_type": "code",
      "source": [
        "id_columns = ['Make', 'Model', 'Class', 'Drive', 'Transmission',\n",
        "            'Transmission Descriptor', 'Engine Cylinders', 'Engine Displacement', 'Turbocharger',\n",
        "           'Supercharger', 'Fuel Type', 'Fuel Type 1',\n",
        "            'Combined MPG (FT1)']\n",
        "duplicates = cars.duplicated(subset=id_columns)\n",
        "\n",
        "duplicates.sum()"
      ],
      "metadata": {
        "execution": {
          "iopub.status.busy": "2022-06-30T07:00:17.771821Z",
          "iopub.execute_input": "2022-06-30T07:00:17.772281Z",
          "iopub.status.idle": "2022-06-30T07:00:17.820765Z",
          "shell.execute_reply.started": "2022-06-30T07:00:17.772119Z",
          "shell.execute_reply": "2022-06-30T07:00:17.818985Z"
        },
        "trusted": true,
        "id": "5x-FR-64cBCp",
        "outputId": "12aee8e9-20ae-4bcd-f1f7-794ed8c24e40"
      },
      "execution_count": null,
      "outputs": [
        {
          "execution_count": 11,
          "output_type": "execute_result",
          "data": {
            "text/plain": "18177"
          },
          "metadata": {}
        }
      ]
    },
    {
      "cell_type": "code",
      "source": [
        "cars[duplicates].head()"
      ],
      "metadata": {
        "execution": {
          "iopub.status.busy": "2022-06-30T07:00:17.822649Z",
          "iopub.execute_input": "2022-06-30T07:00:17.823077Z",
          "iopub.status.idle": "2022-06-30T07:00:17.855637Z",
          "shell.execute_reply.started": "2022-06-30T07:00:17.822997Z",
          "shell.execute_reply": "2022-06-30T07:00:17.853882Z"
        },
        "trusted": true,
        "id": "JuFtQQL_cBCq",
        "outputId": "a859fd1b-63d3-4afc-f18f-a70331ee3d41"
      },
      "execution_count": null,
      "outputs": [
        {
          "execution_count": 12,
          "output_type": "execute_result",
          "data": {
            "text/plain": "   Vehicle ID  Year                         Make               Model  \\\n1       27705  1984                   Alfa Romeo           GT V6 2.5   \n3       27681  1984                   Alfa Romeo  Spider Veloce 2000   \n5       28426  1984                   AM General   DJ Po Vehicle 2WD   \n7       28425  1984                   AM General    FJ8c Post Office   \n9       28455  1984  American Motors Corporation           Eagle 4WD   \n\n                         Class                       Drive       Transmission  \\\n1             Minicompact Cars                         NaN     Manual 5-Speed   \n3                  Two Seaters                         NaN     Manual 5-Speed   \n5  Special Purpose Vehicle 2WD               2-Wheel Drive  Automatic 3-Speed   \n7  Special Purpose Vehicle 2WD               2-Wheel Drive  Automatic 3-Speed   \n9  Special Purpose Vehicle 4WD  4-Wheel or All-Wheel Drive  Automatic 3-Speed   \n\n  Transmission Descriptor  Engine Index Engine Descriptor  Engine Cylinders  \\\n1                     NaN          9005    (FFS) CA model               6.0   \n3                     NaN          9006    (FFS) CA model               4.0   \n5                     NaN          1880    (FFS) CA model               4.0   \n7                     NaN          1881    (FFS) CA model               6.0   \n9                     NaN          1574    (FFS) CA model               6.0   \n\n   Engine Displacement Turbocharger Supercharger Fuel Type       Fuel Type 1  \\\n1                  2.5          NaN          NaN   Regular  Regular Gasoline   \n3                  2.0          NaN          NaN   Regular  Regular Gasoline   \n5                  2.5          NaN          NaN   Regular  Regular Gasoline   \n7                  4.2          NaN          NaN   Regular  Regular Gasoline   \n9                  4.2          NaN          NaN   Regular  Regular Gasoline   \n\n   Combined MPG (FT1)  \n1                  20  \n3                  21  \n5                  17  \n7                  13  \n9                  17  ",
            "text/html": "<div>\n<style scoped>\n    .dataframe tbody tr th:only-of-type {\n        vertical-align: middle;\n    }\n\n    .dataframe tbody tr th {\n        vertical-align: top;\n    }\n\n    .dataframe thead th {\n        text-align: right;\n    }\n</style>\n<table border=\"1\" class=\"dataframe\">\n  <thead>\n    <tr style=\"text-align: right;\">\n      <th></th>\n      <th>Vehicle ID</th>\n      <th>Year</th>\n      <th>Make</th>\n      <th>Model</th>\n      <th>Class</th>\n      <th>Drive</th>\n      <th>Transmission</th>\n      <th>Transmission Descriptor</th>\n      <th>Engine Index</th>\n      <th>Engine Descriptor</th>\n      <th>Engine Cylinders</th>\n      <th>Engine Displacement</th>\n      <th>Turbocharger</th>\n      <th>Supercharger</th>\n      <th>Fuel Type</th>\n      <th>Fuel Type 1</th>\n      <th>Combined MPG (FT1)</th>\n    </tr>\n  </thead>\n  <tbody>\n    <tr>\n      <th>1</th>\n      <td>27705</td>\n      <td>1984</td>\n      <td>Alfa Romeo</td>\n      <td>GT V6 2.5</td>\n      <td>Minicompact Cars</td>\n      <td>NaN</td>\n      <td>Manual 5-Speed</td>\n      <td>NaN</td>\n      <td>9005</td>\n      <td>(FFS) CA model</td>\n      <td>6.0</td>\n      <td>2.5</td>\n      <td>NaN</td>\n      <td>NaN</td>\n      <td>Regular</td>\n      <td>Regular Gasoline</td>\n      <td>20</td>\n    </tr>\n    <tr>\n      <th>3</th>\n      <td>27681</td>\n      <td>1984</td>\n      <td>Alfa Romeo</td>\n      <td>Spider Veloce 2000</td>\n      <td>Two Seaters</td>\n      <td>NaN</td>\n      <td>Manual 5-Speed</td>\n      <td>NaN</td>\n      <td>9006</td>\n      <td>(FFS) CA model</td>\n      <td>4.0</td>\n      <td>2.0</td>\n      <td>NaN</td>\n      <td>NaN</td>\n      <td>Regular</td>\n      <td>Regular Gasoline</td>\n      <td>21</td>\n    </tr>\n    <tr>\n      <th>5</th>\n      <td>28426</td>\n      <td>1984</td>\n      <td>AM General</td>\n      <td>DJ Po Vehicle 2WD</td>\n      <td>Special Purpose Vehicle 2WD</td>\n      <td>2-Wheel Drive</td>\n      <td>Automatic 3-Speed</td>\n      <td>NaN</td>\n      <td>1880</td>\n      <td>(FFS) CA model</td>\n      <td>4.0</td>\n      <td>2.5</td>\n      <td>NaN</td>\n      <td>NaN</td>\n      <td>Regular</td>\n      <td>Regular Gasoline</td>\n      <td>17</td>\n    </tr>\n    <tr>\n      <th>7</th>\n      <td>28425</td>\n      <td>1984</td>\n      <td>AM General</td>\n      <td>FJ8c Post Office</td>\n      <td>Special Purpose Vehicle 2WD</td>\n      <td>2-Wheel Drive</td>\n      <td>Automatic 3-Speed</td>\n      <td>NaN</td>\n      <td>1881</td>\n      <td>(FFS) CA model</td>\n      <td>6.0</td>\n      <td>4.2</td>\n      <td>NaN</td>\n      <td>NaN</td>\n      <td>Regular</td>\n      <td>Regular Gasoline</td>\n      <td>13</td>\n    </tr>\n    <tr>\n      <th>9</th>\n      <td>28455</td>\n      <td>1984</td>\n      <td>American Motors Corporation</td>\n      <td>Eagle 4WD</td>\n      <td>Special Purpose Vehicle 4WD</td>\n      <td>4-Wheel or All-Wheel Drive</td>\n      <td>Automatic 3-Speed</td>\n      <td>NaN</td>\n      <td>1574</td>\n      <td>(FFS) CA model</td>\n      <td>6.0</td>\n      <td>4.2</td>\n      <td>NaN</td>\n      <td>NaN</td>\n      <td>Regular</td>\n      <td>Regular Gasoline</td>\n      <td>17</td>\n    </tr>\n  </tbody>\n</table>\n</div>"
          },
          "metadata": {}
        }
      ]
    },
    {
      "cell_type": "markdown",
      "source": [
        "We can drop a few more columns from the identifier columns which will probably result in more duplicates but we'll leave it at that."
      ],
      "metadata": {
        "id": "PFVr6z76cBCq"
      }
    },
    {
      "cell_type": "code",
      "source": [
        "cars_dedup = cars.drop_duplicates(subset=id_columns)\n",
        "cars_dedup.shape"
      ],
      "metadata": {
        "execution": {
          "iopub.status.busy": "2022-06-30T07:00:17.857172Z",
          "iopub.execute_input": "2022-06-30T07:00:17.857508Z",
          "iopub.status.idle": "2022-06-30T07:00:17.908547Z",
          "shell.execute_reply.started": "2022-06-30T07:00:17.857478Z",
          "shell.execute_reply": "2022-06-30T07:00:17.906803Z"
        },
        "trusted": true,
        "id": "_siol7SIcBCq",
        "outputId": "8fa87bcd-5ae6-425f-ae15-372367612410"
      },
      "execution_count": null,
      "outputs": [
        {
          "execution_count": 13,
          "output_type": "execute_result",
          "data": {
            "text/plain": "(19936, 17)"
          },
          "metadata": {}
        }
      ]
    },
    {
      "cell_type": "markdown",
      "source": [
        "### Categorical Values\n",
        "\n",
        "We summarise categorical values by looking at their counts."
      ],
      "metadata": {
        "id": "CL7qksbzcBCr"
      }
    },
    {
      "cell_type": "code",
      "source": [
        "cars['Make'].value_counts()"
      ],
      "metadata": {
        "execution": {
          "iopub.status.busy": "2022-06-30T07:00:17.910456Z",
          "iopub.execute_input": "2022-06-30T07:00:17.910952Z",
          "iopub.status.idle": "2022-06-30T07:00:17.925770Z",
          "shell.execute_reply.started": "2022-06-30T07:00:17.910904Z",
          "shell.execute_reply": "2022-06-30T07:00:17.924570Z"
        },
        "trusted": true,
        "id": "HqBSox0NcBCr",
        "outputId": "0d5e8e5c-2477-4ab4-b282-8089293f2622"
      },
      "execution_count": null,
      "outputs": [
        {
          "execution_count": 14,
          "output_type": "execute_result",
          "data": {
            "text/plain": "Chevrolet                           3810\nFord                                3155\nDodge                               2531\nGMC                                 2398\nToyota                              1937\n                                    ... \nGoldacre                               1\nEnvironmental Rsch and Devp Corp       1\nPanoz Auto-Development                 1\nImport Foreign Auto Sales Inc          1\nAurora Cars Ltd                        1\nName: Make, Length: 133, dtype: int64"
          },
          "metadata": {}
        }
      ]
    },
    {
      "cell_type": "markdown",
      "source": [
        "The thing about _Make_ and _Model_ is that they are very specific, meaning there are a lot of possible values. This makes it hard for any algorithm to extract information that is generally applicable. Just think of the situation a new car maker appears, how should the algorithm deal with that if it hasn't seen it before. Instead it's better to look at variables that do generalize."
      ],
      "metadata": {
        "id": "wEapNXDYcBCs"
      }
    },
    {
      "cell_type": "code",
      "source": [
        "cars['Class'].value_counts()"
      ],
      "metadata": {
        "execution": {
          "iopub.status.busy": "2022-06-30T07:00:17.927186Z",
          "iopub.execute_input": "2022-06-30T07:00:17.927599Z",
          "iopub.status.idle": "2022-06-30T07:00:17.946845Z",
          "shell.execute_reply.started": "2022-06-30T07:00:17.927558Z",
          "shell.execute_reply": "2022-06-30T07:00:17.945735Z"
        },
        "trusted": true,
        "id": "uqei6AnBcBCs",
        "outputId": "258285ca-795f-4eb7-f9e7-7047fe52cde5"
      },
      "execution_count": null,
      "outputs": [
        {
          "execution_count": 15,
          "output_type": "execute_result",
          "data": {
            "text/plain": "Compact Cars                          5508\nSubcompact Cars                       4872\nMidsize Cars                          4395\nStandard Pickup Trucks                2354\nSport Utility Vehicle - 4WD           2082\nLarge Cars                            1891\nTwo Seaters                           1886\nSport Utility Vehicle - 2WD           1627\nSmall Station Wagons                  1499\nSpecial Purpose Vehicles              1455\nMinicompact Cars                      1260\nStandard Pickup Trucks 2WD            1177\nVans                                  1141\nStandard Pickup Trucks 4WD             986\nMidsize-Large Station Wagons           656\nSpecial Purpose Vehicle 2WD            613\nSmall Pickup Trucks                    538\nSmall Sport Utility Vehicle 4WD        526\nMidsize Station Wagons                 523\nVans, Cargo Type                       438\nSmall Pickup Trucks 2WD                436\nStandard Sport Utility Vehicle 4WD     434\nSmall Sport Utility Vehicle 2WD        403\nMinivan - 2WD                          342\nVans, Passenger Type                   311\nSpecial Purpose Vehicle 4WD            302\nSmall Pickup Trucks 4WD                218\nStandard Sport Utility Vehicle 2WD     182\nMinivan - 4WD                           47\nStandard Pickup Trucks/2wd               4\nSpecial Purpose Vehicles/2wd             2\nSpecial Purpose Vehicles/4wd             2\nVans Passenger                           2\nSpecial Purpose Vehicle                  1\nName: Class, dtype: int64"
          },
          "metadata": {}
        }
      ]
    },
    {
      "cell_type": "markdown",
      "source": [
        "There's a reasonable amount of values here but any algorithm will still have trouble learning anything from the values that only have a handful of observations. Possible solutions are to either ignore or combine these values."
      ],
      "metadata": {
        "id": "ucQa82jKcBCy"
      }
    },
    {
      "cell_type": "code",
      "source": [
        "# remember Drive had a few missing values\n",
        "cars['Drive'].value_counts(dropna=False)"
      ],
      "metadata": {
        "execution": {
          "iopub.status.busy": "2022-06-30T07:00:17.947854Z",
          "iopub.execute_input": "2022-06-30T07:00:17.948222Z",
          "iopub.status.idle": "2022-06-30T07:00:17.968449Z",
          "shell.execute_reply.started": "2022-06-30T07:00:17.948178Z",
          "shell.execute_reply": "2022-06-30T07:00:17.967485Z"
        },
        "trusted": true,
        "id": "S0lX6EQKcBCy",
        "outputId": "96127096-4c7e-4159-e15f-1c6fbf6b530d"
      },
      "execution_count": null,
      "outputs": [
        {
          "execution_count": 16,
          "output_type": "execute_result",
          "data": {
            "text/plain": "Front-Wheel Drive             13351\nRear-Wheel Drive              13018\n4-Wheel or All-Wheel Drive     6648\nAll-Wheel Drive                2121\nNaN                            1189\n4-Wheel Drive                  1103\n2-Wheel Drive                   507\nPart-time 4-Wheel Drive         176\nName: Drive, dtype: int64"
          },
          "metadata": {}
        }
      ]
    },
    {
      "cell_type": "markdown",
      "source": [
        "Here where you would go back to the source and ask what exactly the difference is between these values. Perhaps some of these values can be combined.\n",
        "\n",
        "Will come back to the missing values."
      ],
      "metadata": {
        "id": "gSxlY4cYcBCy"
      }
    },
    {
      "cell_type": "code",
      "source": [
        "cars['Turbocharger'].value_counts(dropna=False)"
      ],
      "metadata": {
        "execution": {
          "iopub.status.busy": "2022-06-30T07:00:17.970196Z",
          "iopub.execute_input": "2022-06-30T07:00:17.970768Z",
          "iopub.status.idle": "2022-06-30T07:00:17.983304Z",
          "shell.execute_reply.started": "2022-06-30T07:00:17.970720Z",
          "shell.execute_reply": "2022-06-30T07:00:17.982484Z"
        },
        "trusted": true,
        "id": "sp3xdipVcBCz",
        "outputId": "35ad5bd2-20f0-4ee6-f832-c59fd1b5d3c0"
      },
      "execution_count": null,
      "outputs": [
        {
          "execution_count": 17,
          "output_type": "execute_result",
          "data": {
            "text/plain": "NaN    32874\nT       5239\nName: Turbocharger, dtype: int64"
          },
          "metadata": {}
        }
      ]
    },
    {
      "cell_type": "code",
      "source": [
        "cars['Supercharger'].value_counts(dropna=False)"
      ],
      "metadata": {
        "execution": {
          "iopub.status.busy": "2022-06-30T07:00:17.984644Z",
          "iopub.execute_input": "2022-06-30T07:00:17.985117Z",
          "iopub.status.idle": "2022-06-30T07:00:18.004293Z",
          "shell.execute_reply.started": "2022-06-30T07:00:17.985070Z",
          "shell.execute_reply": "2022-06-30T07:00:18.002920Z"
        },
        "trusted": true,
        "id": "cM8CORYbcBCz",
        "outputId": "1cf14807-ba28-424a-9d5e-d7252ec6d197"
      },
      "execution_count": null,
      "outputs": [
        {
          "execution_count": 18,
          "output_type": "execute_result",
          "data": {
            "text/plain": "NaN    37420\nS        693\nName: Supercharger, dtype: int64"
          },
          "metadata": {}
        }
      ]
    },
    {
      "cell_type": "markdown",
      "source": [
        "When a column is majority missing values you have to wonder if it is of any use to include it. "
      ],
      "metadata": {
        "id": "mqCsQ_3DcBCz"
      }
    },
    {
      "cell_type": "code",
      "source": [
        "cars['Fuel Type'].value_counts()"
      ],
      "metadata": {
        "execution": {
          "iopub.status.busy": "2022-06-30T07:00:18.005403Z",
          "iopub.execute_input": "2022-06-30T07:00:18.005790Z",
          "iopub.status.idle": "2022-06-30T07:00:18.020714Z",
          "shell.execute_reply.started": "2022-06-30T07:00:18.005761Z",
          "shell.execute_reply": "2022-06-30T07:00:18.019367Z"
        },
        "trusted": true,
        "id": "qmV4JmuQcBCz",
        "outputId": "1ff7dfdd-3529-4c2e-b072-18bf2fdad7b5"
      },
      "execution_count": null,
      "outputs": [
        {
          "execution_count": 19,
          "output_type": "execute_result",
          "data": {
            "text/plain": "Regular                        25258\nPremium                        10133\nGasoline or E85                 1223\nDiesel                          1014\nElectricity                      133\nPremium or E85                   122\nMidgrade                          77\nCNG                               60\nPremium and Electricity           25\nGasoline or natural gas           20\nRegular Gas and Electricity       20\nPremium Gas or Electricity        18\nGasoline or propane                8\nRegular Gas or Electricity         2\nName: Fuel Type, dtype: int64"
          },
          "metadata": {}
        }
      ]
    },
    {
      "cell_type": "markdown",
      "source": [
        "Do electric cars do mileage?\n",
        "\n",
        "### Numerical values\n",
        "\n",
        "We looked at summary statistics for the numerical values but we can go a little deeper by looking at the distribution of values."
      ],
      "metadata": {
        "id": "buwKFEbXcBC0"
      }
    },
    {
      "cell_type": "code",
      "source": [
        "cars['Engine Cylinders'].plot.hist()"
      ],
      "metadata": {
        "execution": {
          "iopub.status.busy": "2022-06-30T07:00:18.022322Z",
          "iopub.execute_input": "2022-06-30T07:00:18.022752Z",
          "iopub.status.idle": "2022-06-30T07:00:18.335942Z",
          "shell.execute_reply.started": "2022-06-30T07:00:18.022714Z",
          "shell.execute_reply": "2022-06-30T07:00:18.334941Z"
        },
        "trusted": true,
        "id": "U8TNCH03cBC0",
        "outputId": "78bcc854-96ac-4393-af32-5d5e498e3ee3"
      },
      "execution_count": null,
      "outputs": [
        {
          "execution_count": 20,
          "output_type": "execute_result",
          "data": {
            "text/plain": "<matplotlib.axes._subplots.AxesSubplot at 0x7f9bbd785e90>"
          },
          "metadata": {}
        },
        {
          "output_type": "display_data",
          "data": {
            "text/plain": "<Figure size 432x288 with 1 Axes>",
            "image/png": "[encoded data removed]"
          },
          "metadata": {
            "needs_background": "light"
          }
        }
      ]
    },
    {
      "cell_type": "markdown",
      "source": [
        "Most cars have 4 or 6 cylinders. We see a few that have 12 and 10 but the one that has 16 or 2 cylinders is odd."
      ],
      "metadata": {
        "id": "Y8fxW-K_cBC0"
      }
    },
    {
      "cell_type": "code",
      "source": [
        "cars[cars['Engine Cylinders']==16]"
      ],
      "metadata": {
        "execution": {
          "iopub.status.busy": "2022-06-30T07:00:18.337390Z",
          "iopub.execute_input": "2022-06-30T07:00:18.337779Z",
          "iopub.status.idle": "2022-06-30T07:00:18.360038Z",
          "shell.execute_reply.started": "2022-06-30T07:00:18.337737Z",
          "shell.execute_reply": "2022-06-30T07:00:18.359308Z"
        },
        "trusted": true,
        "id": "zHbaxlDScBC1",
        "outputId": "9b6daa87-4277-45f4-cf86-346d11b29f39"
      },
      "execution_count": null,
      "outputs": [
        {
          "execution_count": 21,
          "output_type": "execute_result",
          "data": {
            "text/plain": "       Vehicle ID  Year     Make   Model        Class  \\\n24152       22661  2006  Bugatti  Veyron  Two Seaters   \n26411       24169  2008  Bugatti  Veyron  Two Seaters   \n28770       29250  2010  Bugatti  Veyron  Two Seaters   \n29876       30226  2011  Bugatti  Veyron  Two Seaters   \n31003       31619  2012  Bugatti  Veyron  Two Seaters   \n32163       32656  2013  Bugatti  Veyron  Two Seaters   \n33333       33614  2014  Bugatti  Veyron  Two Seaters   \n34565       34939  2015  Bugatti  Veyron  Two Seaters   \n\n                            Drive    Transmission Transmission Descriptor  \\\n24152  4-Wheel or All-Wheel Drive  Automatic (S6)                   3MODE   \n26411  4-Wheel or All-Wheel Drive  Automatic (S6)                   3MODE   \n28770             All-Wheel Drive  Automatic (S7)                     NaN   \n29876             All-Wheel Drive  Automatic (S7)                     NaN   \n31003             All-Wheel Drive  Automatic (S7)                     NaN   \n32163             All-Wheel Drive     Auto(AM-S7)                     NaN   \n33333             All-Wheel Drive     Auto(AM-S7)                     NaN   \n34565             All-Wheel Drive     Auto(AM-S7)                     NaN   \n\n       Engine Index Engine Descriptor  Engine Cylinders  Engine Displacement  \\\n24152             0               NaN              16.0                  8.0   \n26411             0               NaN              16.0                  8.0   \n28770             1                PR              16.0                  8.0   \n29876            61               NaN              16.0                  8.0   \n31003            85               NaN              16.0                  8.0   \n32163            88               NaN              16.0                  8.0   \n33333            27               NaN              16.0                  8.0   \n34565            60               NaN              16.0                  8.0   \n\n      Turbocharger Supercharger Fuel Type       Fuel Type 1  \\\n24152            T          NaN   Premium  Premium Gasoline   \n26411            T          NaN   Premium  Premium Gasoline   \n28770            T          NaN   Premium  Premium Gasoline   \n29876            T          NaN   Premium  Premium Gasoline   \n31003            T          NaN   Premium  Premium Gasoline   \n32163            T          NaN   Premium  Premium Gasoline   \n33333            T          NaN   Premium  Premium Gasoline   \n34565            T          NaN   Premium  Premium Gasoline   \n\n       Combined MPG (FT1)  \n24152                  10  \n26411                  10  \n28770                  10  \n29876                  10  \n31003                  10  \n32163                  10  \n33333                  10  \n34565                  10  ",
            "text/html": "<div>\n<style scoped>\n    .dataframe tbody tr th:only-of-type {\n        vertical-align: middle;\n    }\n\n    .dataframe tbody tr th {\n        vertical-align: top;\n    }\n\n    .dataframe thead th {\n        text-align: right;\n    }\n</style>\n<table border=\"1\" class=\"dataframe\">\n  <thead>\n    <tr style=\"text-align: right;\">\n      <th></th>\n      <th>Vehicle ID</th>\n      <th>Year</th>\n      <th>Make</th>\n      <th>Model</th>\n      <th>Class</th>\n      <th>Drive</th>\n      <th>Transmission</th>\n      <th>Transmission Descriptor</th>\n      <th>Engine Index</th>\n      <th>Engine Descriptor</th>\n      <th>Engine Cylinders</th>\n      <th>Engine Displacement</th>\n      <th>Turbocharger</th>\n      <th>Supercharger</th>\n      <th>Fuel Type</th>\n      <th>Fuel Type 1</th>\n      <th>Combined MPG (FT1)</th>\n    </tr>\n  </thead>\n  <tbody>\n    <tr>\n      <th>24152</th>\n      <td>22661</td>\n      <td>2006</td>\n      <td>Bugatti</td>\n      <td>Veyron</td>\n      <td>Two Seaters</td>\n      <td>4-Wheel or All-Wheel Drive</td>\n      <td>Automatic (S6)</td>\n      <td>3MODE</td>\n      <td>0</td>\n      <td>NaN</td>\n      <td>16.0</td>\n      <td>8.0</td>\n      <td>T</td>\n      <td>NaN</td>\n      <td>Premium</td>\n      <td>Premium Gasoline</td>\n      <td>10</td>\n    </tr>\n    <tr>\n      <th>26411</th>\n      <td>24169</td>\n      <td>2008</td>\n      <td>Bugatti</td>\n      <td>Veyron</td>\n      <td>Two Seaters</td>\n      <td>4-Wheel or All-Wheel Drive</td>\n      <td>Automatic (S6)</td>\n      <td>3MODE</td>\n      <td>0</td>\n      <td>NaN</td>\n      <td>16.0</td>\n      <td>8.0</td>\n      <td>T</td>\n      <td>NaN</td>\n      <td>Premium</td>\n      <td>Premium Gasoline</td>\n      <td>10</td>\n    </tr>\n    <tr>\n      <th>28770</th>\n      <td>29250</td>\n      <td>2010</td>\n      <td>Bugatti</td>\n      <td>Veyron</td>\n      <td>Two Seaters</td>\n      <td>All-Wheel Drive</td>\n      <td>Automatic (S7)</td>\n      <td>NaN</td>\n      <td>1</td>\n      <td>PR</td>\n      <td>16.0</td>\n      <td>8.0</td>\n      <td>T</td>\n      <td>NaN</td>\n      <td>Premium</td>\n      <td>Premium Gasoline</td>\n      <td>10</td>\n    </tr>\n    <tr>\n      <th>29876</th>\n      <td>30226</td>\n      <td>2011</td>\n      <td>Bugatti</td>\n      <td>Veyron</td>\n      <td>Two Seaters</td>\n      <td>All-Wheel Drive</td>\n      <td>Automatic (S7)</td>\n      <td>NaN</td>\n      <td>61</td>\n      <td>NaN</td>\n      <td>16.0</td>\n      <td>8.0</td>\n      <td>T</td>\n      <td>NaN</td>\n      <td>Premium</td>\n      <td>Premium Gasoline</td>\n      <td>10</td>\n    </tr>\n    <tr>\n      <th>31003</th>\n      <td>31619</td>\n      <td>2012</td>\n      <td>Bugatti</td>\n      <td>Veyron</td>\n      <td>Two Seaters</td>\n      <td>All-Wheel Drive</td>\n      <td>Automatic (S7)</td>\n      <td>NaN</td>\n      <td>85</td>\n      <td>NaN</td>\n      <td>16.0</td>\n      <td>8.0</td>\n      <td>T</td>\n      <td>NaN</td>\n      <td>Premium</td>\n      <td>Premium Gasoline</td>\n      <td>10</td>\n    </tr>\n    <tr>\n      <th>32163</th>\n      <td>32656</td>\n      <td>2013</td>\n      <td>Bugatti</td>\n      <td>Veyron</td>\n      <td>Two Seaters</td>\n      <td>All-Wheel Drive</td>\n      <td>Auto(AM-S7)</td>\n      <td>NaN</td>\n      <td>88</td>\n      <td>NaN</td>\n      <td>16.0</td>\n      <td>8.0</td>\n      <td>T</td>\n      <td>NaN</td>\n      <td>Premium</td>\n      <td>Premium Gasoline</td>\n      <td>10</td>\n    </tr>\n    <tr>\n      <th>33333</th>\n      <td>33614</td>\n      <td>2014</td>\n      <td>Bugatti</td>\n      <td>Veyron</td>\n      <td>Two Seaters</td>\n      <td>All-Wheel Drive</td>\n      <td>Auto(AM-S7)</td>\n      <td>NaN</td>\n      <td>27</td>\n      <td>NaN</td>\n      <td>16.0</td>\n      <td>8.0</td>\n      <td>T</td>\n      <td>NaN</td>\n      <td>Premium</td>\n      <td>Premium Gasoline</td>\n      <td>10</td>\n    </tr>\n    <tr>\n      <th>34565</th>\n      <td>34939</td>\n      <td>2015</td>\n      <td>Bugatti</td>\n      <td>Veyron</td>\n      <td>Two Seaters</td>\n      <td>All-Wheel Drive</td>\n      <td>Auto(AM-S7)</td>\n      <td>NaN</td>\n      <td>60</td>\n      <td>NaN</td>\n      <td>16.0</td>\n      <td>8.0</td>\n      <td>T</td>\n      <td>NaN</td>\n      <td>Premium</td>\n      <td>Premium Gasoline</td>\n      <td>10</td>\n    </tr>\n  </tbody>\n</table>\n</div>"
          },
          "metadata": {}
        }
      ]
    },
    {
      "cell_type": "markdown",
      "source": [
        "Ok maybe not that odd."
      ],
      "metadata": {
        "id": "Z1miwdF_cBC2"
      }
    },
    {
      "cell_type": "code",
      "source": [
        "cars[cars['Engine Cylinders']==2].head()"
      ],
      "metadata": {
        "execution": {
          "iopub.status.busy": "2022-06-30T07:00:18.361023Z",
          "iopub.execute_input": "2022-06-30T07:00:18.361442Z",
          "iopub.status.idle": "2022-06-30T07:00:18.382791Z",
          "shell.execute_reply.started": "2022-06-30T07:00:18.361404Z",
          "shell.execute_reply": "2022-06-30T07:00:18.381919Z"
        },
        "trusted": true,
        "id": "ioUKwi-KcBC2",
        "outputId": "21af4717-8950-452b-8188-5244e12f0ee5"
      },
      "execution_count": null,
      "outputs": [
        {
          "execution_count": 22,
          "output_type": "execute_result",
          "data": {
            "text/plain": "      Vehicle ID  Year   Make Model        Class Drive       Transmission  \\\n1212       26578  1984  Mazda  RX-7  Two Seaters   NaN  Automatic 4-Speed   \n1213       27697  1984  Mazda  RX-7  Two Seaters   NaN  Automatic 4-Speed   \n1214       26579  1984  Mazda  RX-7  Two Seaters   NaN     Manual 5-Speed   \n1215       26580  1984  Mazda  RX-7  Two Seaters   NaN     Manual 5-Speed   \n1216       27698  1984  Mazda  RX-7  Two Seaters   NaN     Manual 5-Speed   \n\n     Transmission Descriptor  Engine Index Engine Descriptor  \\\n1212                     NaN         56010               NaN   \n1213                     NaN         56016          CA model   \n1214                     NaN         56010               NaN   \n1215                     NaN         56011             (FFS)   \n1216                     NaN         56016          CA model   \n\n      Engine Cylinders  Engine Displacement Turbocharger Supercharger  \\\n1212               2.0                  1.1          NaN          NaN   \n1213               2.0                  1.1          NaN          NaN   \n1214               2.0                  1.1          NaN          NaN   \n1215               2.0                  1.3          NaN          NaN   \n1216               2.0                  1.1          NaN          NaN   \n\n     Fuel Type       Fuel Type 1  Combined MPG (FT1)  \n1212   Regular  Regular Gasoline                  17  \n1213   Regular  Regular Gasoline                  17  \n1214   Regular  Regular Gasoline                  17  \n1215   Regular  Regular Gasoline                  17  \n1216   Regular  Regular Gasoline                  17  ",
            "text/html": "<div>\n<style scoped>\n    .dataframe tbody tr th:only-of-type {\n        vertical-align: middle;\n    }\n\n    .dataframe tbody tr th {\n        vertical-align: top;\n    }\n\n    .dataframe thead th {\n        text-align: right;\n    }\n</style>\n<table border=\"1\" class=\"dataframe\">\n  <thead>\n    <tr style=\"text-align: right;\">\n      <th></th>\n      <th>Vehicle ID</th>\n      <th>Year</th>\n      <th>Make</th>\n      <th>Model</th>\n      <th>Class</th>\n      <th>Drive</th>\n      <th>Transmission</th>\n      <th>Transmission Descriptor</th>\n      <th>Engine Index</th>\n      <th>Engine Descriptor</th>\n      <th>Engine Cylinders</th>\n      <th>Engine Displacement</th>\n      <th>Turbocharger</th>\n      <th>Supercharger</th>\n      <th>Fuel Type</th>\n      <th>Fuel Type 1</th>\n      <th>Combined MPG (FT1)</th>\n    </tr>\n  </thead>\n  <tbody>\n    <tr>\n      <th>1212</th>\n      <td>26578</td>\n      <td>1984</td>\n      <td>Mazda</td>\n      <td>RX-7</td>\n      <td>Two Seaters</td>\n      <td>NaN</td>\n      <td>Automatic 4-Speed</td>\n      <td>NaN</td>\n      <td>56010</td>\n      <td>NaN</td>\n      <td>2.0</td>\n      <td>1.1</td>\n      <td>NaN</td>\n      <td>NaN</td>\n      <td>Regular</td>\n      <td>Regular Gasoline</td>\n      <td>17</td>\n    </tr>\n    <tr>\n      <th>1213</th>\n      <td>27697</td>\n      <td>1984</td>\n      <td>Mazda</td>\n      <td>RX-7</td>\n      <td>Two Seaters</td>\n      <td>NaN</td>\n      <td>Automatic 4-Speed</td>\n      <td>NaN</td>\n      <td>56016</td>\n      <td>CA model</td>\n      <td>2.0</td>\n      <td>1.1</td>\n      <td>NaN</td>\n      <td>NaN</td>\n      <td>Regular</td>\n      <td>Regular Gasoline</td>\n      <td>17</td>\n    </tr>\n    <tr>\n      <th>1214</th>\n      <td>26579</td>\n      <td>1984</td>\n      <td>Mazda</td>\n      <td>RX-7</td>\n      <td>Two Seaters</td>\n      <td>NaN</td>\n      <td>Manual 5-Speed</td>\n      <td>NaN</td>\n      <td>56010</td>\n      <td>NaN</td>\n      <td>2.0</td>\n      <td>1.1</td>\n      <td>NaN</td>\n      <td>NaN</td>\n      <td>Regular</td>\n      <td>Regular Gasoline</td>\n      <td>17</td>\n    </tr>\n    <tr>\n      <th>1215</th>\n      <td>26580</td>\n      <td>1984</td>\n      <td>Mazda</td>\n      <td>RX-7</td>\n      <td>Two Seaters</td>\n      <td>NaN</td>\n      <td>Manual 5-Speed</td>\n      <td>NaN</td>\n      <td>56011</td>\n      <td>(FFS)</td>\n      <td>2.0</td>\n      <td>1.3</td>\n      <td>NaN</td>\n      <td>NaN</td>\n      <td>Regular</td>\n      <td>Regular Gasoline</td>\n      <td>17</td>\n    </tr>\n    <tr>\n      <th>1216</th>\n      <td>27698</td>\n      <td>1984</td>\n      <td>Mazda</td>\n      <td>RX-7</td>\n      <td>Two Seaters</td>\n      <td>NaN</td>\n      <td>Manual 5-Speed</td>\n      <td>NaN</td>\n      <td>56016</td>\n      <td>CA model</td>\n      <td>2.0</td>\n      <td>1.1</td>\n      <td>NaN</td>\n      <td>NaN</td>\n      <td>Regular</td>\n      <td>Regular Gasoline</td>\n      <td>17</td>\n    </tr>\n  </tbody>\n</table>\n</div>"
          },
          "metadata": {}
        }
      ]
    },
    {
      "cell_type": "code",
      "source": [
        "cars[cars['Engine Cylinders']==2].shape"
      ],
      "metadata": {
        "execution": {
          "iopub.status.busy": "2022-06-30T07:00:18.384128Z",
          "iopub.execute_input": "2022-06-30T07:00:18.384400Z",
          "iopub.status.idle": "2022-06-30T07:00:18.391541Z",
          "shell.execute_reply.started": "2022-06-30T07:00:18.384374Z",
          "shell.execute_reply": "2022-06-30T07:00:18.390733Z"
        },
        "trusted": true,
        "id": "d-QZh7NacBC3",
        "outputId": "3052fe30-a902-4bca-cad2-d2e2c8170866"
      },
      "execution_count": null,
      "outputs": [
        {
          "execution_count": 23,
          "output_type": "execute_result",
          "data": {
            "text/plain": "(55, 17)"
          },
          "metadata": {}
        }
      ]
    },
    {
      "cell_type": "code",
      "source": [
        "cars[cars['Engine Cylinders']==2]['Make'].unique()"
      ],
      "metadata": {
        "execution": {
          "iopub.status.busy": "2022-06-30T07:00:18.392612Z",
          "iopub.execute_input": "2022-06-30T07:00:18.393050Z",
          "iopub.status.idle": "2022-06-30T07:00:18.405864Z",
          "shell.execute_reply.started": "2022-06-30T07:00:18.392990Z",
          "shell.execute_reply": "2022-06-30T07:00:18.405121Z"
        },
        "trusted": true,
        "id": "KzugRQLTcBC4",
        "outputId": "6c0a25ab-a2d9-45b4-9bcb-798ad3ae7c95"
      },
      "execution_count": null,
      "outputs": [
        {
          "execution_count": 24,
          "output_type": "execute_result",
          "data": {
            "text/plain": "array(['Mazda', 'BMW'], dtype=object)"
          },
          "metadata": {}
        }
      ]
    },
    {
      "cell_type": "code",
      "source": [
        "cars[cars['Engine Cylinders']==2].tail()"
      ],
      "metadata": {
        "execution": {
          "iopub.status.busy": "2022-06-30T07:00:18.407172Z",
          "iopub.execute_input": "2022-06-30T07:00:18.407605Z",
          "iopub.status.idle": "2022-06-30T07:00:18.434066Z",
          "shell.execute_reply.started": "2022-06-30T07:00:18.407563Z",
          "shell.execute_reply": "2022-06-30T07:00:18.433147Z"
        },
        "trusted": true,
        "id": "VWdtca-gcBC4",
        "outputId": "bef43c90-83c6-407b-e8f8-0579890a85cf"
      },
      "execution_count": null,
      "outputs": [
        {
          "execution_count": 25,
          "output_type": "execute_result",
          "data": {
            "text/plain": "       Vehicle ID  Year   Make                          Model  \\\n30443       30614  2011  Mazda                           RX-8   \n33304       35279  2014    BMW                         i3 REX   \n34522       36030  2015    BMW                         i3 REX   \n35769       37222  2016    BMW                         i3 REX   \n37015       38229  2017    BMW  i3 REX  (94 Amp-hour battery)   \n\n                 Class             Drive    Transmission  \\\n30443  Subcompact Cars  Rear-Wheel Drive  Manual 6-Speed   \n33304  Subcompact Cars  Rear-Wheel Drive  Automatic (A1)   \n34522  Subcompact Cars  Rear-Wheel Drive  Automatic (A1)   \n35769  Subcompact Cars  Rear-Wheel Drive  Automatic (A1)   \n37015  Subcompact Cars  Rear-Wheel Drive  Automatic (A1)   \n\n      Transmission Descriptor  Engine Index          Engine Descriptor  \\\n30443                     NaN            14                        NaN   \n33304                     NaN           101                       PHEV   \n34522                     NaN           101                       PHEV   \n35769                     NaN           101                       PHEV   \n37015                     NaN           103  PHEV; 94 Amp-hour battery   \n\n       Engine Cylinders  Engine Displacement Turbocharger Supercharger  \\\n30443               2.0                  1.3          NaN          NaN   \n33304               2.0                  0.6          NaN          NaN   \n34522               2.0                  0.6          NaN          NaN   \n35769               2.0                  0.6          NaN          NaN   \n37015               2.0                  0.6          NaN          NaN   \n\n                        Fuel Type       Fuel Type 1  Combined MPG (FT1)  \n30443                     Premium  Premium Gasoline                  18  \n33304  Premium Gas or Electricity  Premium Gasoline                  39  \n34522  Premium Gas or Electricity  Premium Gasoline                  39  \n35769  Premium Gas or Electricity  Premium Gasoline                  39  \n37015  Premium Gas or Electricity  Premium Gasoline                  35  ",
            "text/html": "<div>\n<style scoped>\n    .dataframe tbody tr th:only-of-type {\n        vertical-align: middle;\n    }\n\n    .dataframe tbody tr th {\n        vertical-align: top;\n    }\n\n    .dataframe thead th {\n        text-align: right;\n    }\n</style>\n<table border=\"1\" class=\"dataframe\">\n  <thead>\n    <tr style=\"text-align: right;\">\n      <th></th>\n      <th>Vehicle ID</th>\n      <th>Year</th>\n      <th>Make</th>\n      <th>Model</th>\n      <th>Class</th>\n      <th>Drive</th>\n      <th>Transmission</th>\n      <th>Transmission Descriptor</th>\n      <th>Engine Index</th>\n      <th>Engine Descriptor</th>\n      <th>Engine Cylinders</th>\n      <th>Engine Displacement</th>\n      <th>Turbocharger</th>\n      <th>Supercharger</th>\n      <th>Fuel Type</th>\n      <th>Fuel Type 1</th>\n      <th>Combined MPG (FT1)</th>\n    </tr>\n  </thead>\n  <tbody>\n    <tr>\n      <th>30443</th>\n      <td>30614</td>\n      <td>2011</td>\n      <td>Mazda</td>\n      <td>RX-8</td>\n      <td>Subcompact Cars</td>\n      <td>Rear-Wheel Drive</td>\n      <td>Manual 6-Speed</td>\n      <td>NaN</td>\n      <td>14</td>\n      <td>NaN</td>\n      <td>2.0</td>\n      <td>1.3</td>\n      <td>NaN</td>\n      <td>NaN</td>\n      <td>Premium</td>\n      <td>Premium Gasoline</td>\n      <td>18</td>\n    </tr>\n    <tr>\n      <th>33304</th>\n      <td>35279</td>\n      <td>2014</td>\n      <td>BMW</td>\n      <td>i3 REX</td>\n      <td>Subcompact Cars</td>\n      <td>Rear-Wheel Drive</td>\n      <td>Automatic (A1)</td>\n      <td>NaN</td>\n      <td>101</td>\n      <td>PHEV</td>\n      <td>2.0</td>\n      <td>0.6</td>\n      <td>NaN</td>\n      <td>NaN</td>\n      <td>Premium Gas or Electricity</td>\n      <td>Premium Gasoline</td>\n      <td>39</td>\n    </tr>\n    <tr>\n      <th>34522</th>\n      <td>36030</td>\n      <td>2015</td>\n      <td>BMW</td>\n      <td>i3 REX</td>\n      <td>Subcompact Cars</td>\n      <td>Rear-Wheel Drive</td>\n      <td>Automatic (A1)</td>\n      <td>NaN</td>\n      <td>101</td>\n      <td>PHEV</td>\n      <td>2.0</td>\n      <td>0.6</td>\n      <td>NaN</td>\n      <td>NaN</td>\n      <td>Premium Gas or Electricity</td>\n      <td>Premium Gasoline</td>\n      <td>39</td>\n    </tr>\n    <tr>\n      <th>35769</th>\n      <td>37222</td>\n      <td>2016</td>\n      <td>BMW</td>\n      <td>i3 REX</td>\n      <td>Subcompact Cars</td>\n      <td>Rear-Wheel Drive</td>\n      <td>Automatic (A1)</td>\n      <td>NaN</td>\n      <td>101</td>\n      <td>PHEV</td>\n      <td>2.0</td>\n      <td>0.6</td>\n      <td>NaN</td>\n      <td>NaN</td>\n      <td>Premium Gas or Electricity</td>\n      <td>Premium Gasoline</td>\n      <td>39</td>\n    </tr>\n    <tr>\n      <th>37015</th>\n      <td>38229</td>\n      <td>2017</td>\n      <td>BMW</td>\n      <td>i3 REX  (94 Amp-hour battery)</td>\n      <td>Subcompact Cars</td>\n      <td>Rear-Wheel Drive</td>\n      <td>Automatic (A1)</td>\n      <td>NaN</td>\n      <td>103</td>\n      <td>PHEV; 94 Amp-hour battery</td>\n      <td>2.0</td>\n      <td>0.6</td>\n      <td>NaN</td>\n      <td>NaN</td>\n      <td>Premium Gas or Electricity</td>\n      <td>Premium Gasoline</td>\n      <td>35</td>\n    </tr>\n  </tbody>\n</table>\n</div>"
          },
          "metadata": {}
        }
      ]
    },
    {
      "cell_type": "code",
      "source": [
        "cars['Engine Displacement'].plot.hist()"
      ],
      "metadata": {
        "execution": {
          "iopub.status.busy": "2022-06-30T07:00:18.435811Z",
          "iopub.execute_input": "2022-06-30T07:00:18.436277Z",
          "iopub.status.idle": "2022-06-30T07:00:18.599501Z",
          "shell.execute_reply.started": "2022-06-30T07:00:18.436242Z",
          "shell.execute_reply": "2022-06-30T07:00:18.598575Z"
        },
        "trusted": true,
        "id": "t5G-Jb7RcBC5",
        "outputId": "81dcbc0a-41de-4302-f4d2-af61baa26c37"
      },
      "execution_count": null,
      "outputs": [
        {
          "execution_count": 26,
          "output_type": "execute_result",
          "data": {
            "text/plain": "<matplotlib.axes._subplots.AxesSubplot at 0x7f9bbd566290>"
          },
          "metadata": {}
        },
        {
          "output_type": "display_data",
          "data": {
            "text/plain": "<Figure size 432x288 with 1 Axes>",
            "image/png": "[encoded data removed]"
          },
          "metadata": {
            "needs_background": "light"
          }
        }
      ]
    },
    {
      "cell_type": "markdown",
      "source": [
        "So most cars are small cars so it makes sense the displacement distribution tends to the left. It is also not weird that there are some large cars in the dataset. I don't really know if a displacement of 8 is unusual. A displacement of 0 is however."
      ],
      "metadata": {
        "id": "JNhZb_IwcBC5"
      }
    },
    {
      "cell_type": "code",
      "source": [
        "cars[cars['Engine Displacement']==0]"
      ],
      "metadata": {
        "execution": {
          "iopub.status.busy": "2022-06-30T07:00:18.600781Z",
          "iopub.execute_input": "2022-06-30T07:00:18.601090Z",
          "iopub.status.idle": "2022-06-30T07:00:18.623196Z",
          "shell.execute_reply.started": "2022-06-30T07:00:18.601058Z",
          "shell.execute_reply": "2022-06-30T07:00:18.621864Z"
        },
        "trusted": true,
        "id": "MDCw_bCWcBC5",
        "outputId": "e4b342a3-5e63-4cb2-c84e-5bbd1b31555f"
      },
      "execution_count": null,
      "outputs": [
        {
          "execution_count": 27,
          "output_type": "execute_result",
          "data": {
            "text/plain": "       Vehicle ID  Year        Make   Model            Class  \\\n36578       36023  2016  Mitsubishi  i-MiEV  Subcompact Cars   \n\n                  Drive    Transmission Transmission Descriptor  Engine Index  \\\n36578  Rear-Wheel Drive  Automatic (A1)                     NaN           141   \n\n      Engine Descriptor  Engine Cylinders  Engine Displacement Turbocharger  \\\n36578               NaN               NaN                  0.0          NaN   \n\n      Supercharger    Fuel Type  Fuel Type 1  Combined MPG (FT1)  \n36578          NaN  Electricity  Electricity                 112  ",
            "text/html": "<div>\n<style scoped>\n    .dataframe tbody tr th:only-of-type {\n        vertical-align: middle;\n    }\n\n    .dataframe tbody tr th {\n        vertical-align: top;\n    }\n\n    .dataframe thead th {\n        text-align: right;\n    }\n</style>\n<table border=\"1\" class=\"dataframe\">\n  <thead>\n    <tr style=\"text-align: right;\">\n      <th></th>\n      <th>Vehicle ID</th>\n      <th>Year</th>\n      <th>Make</th>\n      <th>Model</th>\n      <th>Class</th>\n      <th>Drive</th>\n      <th>Transmission</th>\n      <th>Transmission Descriptor</th>\n      <th>Engine Index</th>\n      <th>Engine Descriptor</th>\n      <th>Engine Cylinders</th>\n      <th>Engine Displacement</th>\n      <th>Turbocharger</th>\n      <th>Supercharger</th>\n      <th>Fuel Type</th>\n      <th>Fuel Type 1</th>\n      <th>Combined MPG (FT1)</th>\n    </tr>\n  </thead>\n  <tbody>\n    <tr>\n      <th>36578</th>\n      <td>36023</td>\n      <td>2016</td>\n      <td>Mitsubishi</td>\n      <td>i-MiEV</td>\n      <td>Subcompact Cars</td>\n      <td>Rear-Wheel Drive</td>\n      <td>Automatic (A1)</td>\n      <td>NaN</td>\n      <td>141</td>\n      <td>NaN</td>\n      <td>NaN</td>\n      <td>0.0</td>\n      <td>NaN</td>\n      <td>NaN</td>\n      <td>Electricity</td>\n      <td>Electricity</td>\n      <td>112</td>\n    </tr>\n  </tbody>\n</table>\n</div>"
          },
          "metadata": {}
        }
      ]
    },
    {
      "cell_type": "code",
      "source": [
        "cars[cars['Engine Displacement']==8].head()"
      ],
      "metadata": {
        "execution": {
          "iopub.status.busy": "2022-06-30T07:00:18.624637Z",
          "iopub.execute_input": "2022-06-30T07:00:18.624901Z",
          "iopub.status.idle": "2022-06-30T07:00:18.648846Z",
          "shell.execute_reply.started": "2022-06-30T07:00:18.624876Z",
          "shell.execute_reply": "2022-06-30T07:00:18.647926Z"
        },
        "trusted": true,
        "id": "96nnDQ3mcBC6",
        "outputId": "1ddde89b-5d47-4c50-95b9-ded2127afd7f"
      },
      "execution_count": null,
      "outputs": [
        {
          "execution_count": 28,
          "output_type": "execute_result",
          "data": {
            "text/plain": "       Vehicle ID  Year   Make  Model        Class             Drive  \\\n10939       28912  1992  Dodge  Viper  Two Seaters  Rear-Wheel Drive   \n12029       28960  1993  Dodge  Viper  Two Seaters  Rear-Wheel Drive   \n13103       10627  1994  Dodge  Viper  Two Seaters  Rear-Wheel Drive   \n14082       11589  1995  Dodge  Viper  Two Seaters  Rear-Wheel Drive   \n14974       12517  1996  Dodge  Viper  Two Seaters  Rear-Wheel Drive   \n\n         Transmission Transmission Descriptor  Engine Index Engine Descriptor  \\\n10939  Manual 6-Speed                     NaN             0   (GUZZLER) (FFS)   \n12029  Manual 6-Speed                     NaN             0   (GUZZLER) (FFS)   \n13103  Manual 6-Speed                     NaN          2625  (GUZZLER)  (FFS)   \n14082  Manual 6-Speed                     NaN          2911  (GUZZLER)  (FFS)   \n14974  Manual 6-Speed                     NaN          2710  (GUZZLER)  (FFS)   \n\n       Engine Cylinders  Engine Displacement Turbocharger Supercharger  \\\n10939              10.0                  8.0          NaN          NaN   \n12029              10.0                  8.0          NaN          NaN   \n13103              10.0                  8.0          NaN          NaN   \n14082              10.0                  8.0          NaN          NaN   \n14974              10.0                  8.0          NaN          NaN   \n\n      Fuel Type       Fuel Type 1  Combined MPG (FT1)  \n10939   Premium  Premium Gasoline                  14  \n12029   Premium  Premium Gasoline                  15  \n13103   Premium  Premium Gasoline                  15  \n14082   Premium  Premium Gasoline                  14  \n14974   Premium  Premium Gasoline                  14  ",
            "text/html": "<div>\n<style scoped>\n    .dataframe tbody tr th:only-of-type {\n        vertical-align: middle;\n    }\n\n    .dataframe tbody tr th {\n        vertical-align: top;\n    }\n\n    .dataframe thead th {\n        text-align: right;\n    }\n</style>\n<table border=\"1\" class=\"dataframe\">\n  <thead>\n    <tr style=\"text-align: right;\">\n      <th></th>\n      <th>Vehicle ID</th>\n      <th>Year</th>\n      <th>Make</th>\n      <th>Model</th>\n      <th>Class</th>\n      <th>Drive</th>\n      <th>Transmission</th>\n      <th>Transmission Descriptor</th>\n      <th>Engine Index</th>\n      <th>Engine Descriptor</th>\n      <th>Engine Cylinders</th>\n      <th>Engine Displacement</th>\n      <th>Turbocharger</th>\n      <th>Supercharger</th>\n      <th>Fuel Type</th>\n      <th>Fuel Type 1</th>\n      <th>Combined MPG (FT1)</th>\n    </tr>\n  </thead>\n  <tbody>\n    <tr>\n      <th>10939</th>\n      <td>28912</td>\n      <td>1992</td>\n      <td>Dodge</td>\n      <td>Viper</td>\n      <td>Two Seaters</td>\n      <td>Rear-Wheel Drive</td>\n      <td>Manual 6-Speed</td>\n      <td>NaN</td>\n      <td>0</td>\n      <td>(GUZZLER) (FFS)</td>\n      <td>10.0</td>\n      <td>8.0</td>\n      <td>NaN</td>\n      <td>NaN</td>\n      <td>Premium</td>\n      <td>Premium Gasoline</td>\n      <td>14</td>\n    </tr>\n    <tr>\n      <th>12029</th>\n      <td>28960</td>\n      <td>1993</td>\n      <td>Dodge</td>\n      <td>Viper</td>\n      <td>Two Seaters</td>\n      <td>Rear-Wheel Drive</td>\n      <td>Manual 6-Speed</td>\n      <td>NaN</td>\n      <td>0</td>\n      <td>(GUZZLER) (FFS)</td>\n      <td>10.0</td>\n      <td>8.0</td>\n      <td>NaN</td>\n      <td>NaN</td>\n      <td>Premium</td>\n      <td>Premium Gasoline</td>\n      <td>15</td>\n    </tr>\n    <tr>\n      <th>13103</th>\n      <td>10627</td>\n      <td>1994</td>\n      <td>Dodge</td>\n      <td>Viper</td>\n      <td>Two Seaters</td>\n      <td>Rear-Wheel Drive</td>\n      <td>Manual 6-Speed</td>\n      <td>NaN</td>\n      <td>2625</td>\n      <td>(GUZZLER)  (FFS)</td>\n      <td>10.0</td>\n      <td>8.0</td>\n      <td>NaN</td>\n      <td>NaN</td>\n      <td>Premium</td>\n      <td>Premium Gasoline</td>\n      <td>15</td>\n    </tr>\n    <tr>\n      <th>14082</th>\n      <td>11589</td>\n      <td>1995</td>\n      <td>Dodge</td>\n      <td>Viper</td>\n      <td>Two Seaters</td>\n      <td>Rear-Wheel Drive</td>\n      <td>Manual 6-Speed</td>\n      <td>NaN</td>\n      <td>2911</td>\n      <td>(GUZZLER)  (FFS)</td>\n      <td>10.0</td>\n      <td>8.0</td>\n      <td>NaN</td>\n      <td>NaN</td>\n      <td>Premium</td>\n      <td>Premium Gasoline</td>\n      <td>14</td>\n    </tr>\n    <tr>\n      <th>14974</th>\n      <td>12517</td>\n      <td>1996</td>\n      <td>Dodge</td>\n      <td>Viper</td>\n      <td>Two Seaters</td>\n      <td>Rear-Wheel Drive</td>\n      <td>Manual 6-Speed</td>\n      <td>NaN</td>\n      <td>2710</td>\n      <td>(GUZZLER)  (FFS)</td>\n      <td>10.0</td>\n      <td>8.0</td>\n      <td>NaN</td>\n      <td>NaN</td>\n      <td>Premium</td>\n      <td>Premium Gasoline</td>\n      <td>14</td>\n    </tr>\n  </tbody>\n</table>\n</div>"
          },
          "metadata": {}
        }
      ]
    },
    {
      "cell_type": "code",
      "source": [
        "cars['Combined MPG (FT1)'].plot.hist()"
      ],
      "metadata": {
        "execution": {
          "iopub.status.busy": "2022-06-30T07:00:18.650453Z",
          "iopub.execute_input": "2022-06-30T07:00:18.650895Z",
          "iopub.status.idle": "2022-06-30T07:00:18.833736Z",
          "shell.execute_reply.started": "2022-06-30T07:00:18.650860Z",
          "shell.execute_reply": "2022-06-30T07:00:18.832717Z"
        },
        "trusted": true,
        "id": "sED665kycBC6",
        "outputId": "23aa8c4d-47fc-4358-cda7-20f8dfd6d850"
      },
      "execution_count": null,
      "outputs": [
        {
          "execution_count": 29,
          "output_type": "execute_result",
          "data": {
            "text/plain": "<matplotlib.axes._subplots.AxesSubplot at 0x7f9bbd477590>"
          },
          "metadata": {}
        },
        {
          "output_type": "display_data",
          "data": {
            "text/plain": "<Figure size 432x288 with 1 Axes>",
            "image/png": "[encoded data removed]"
          },
          "metadata": {
            "needs_background": "light"
          }
        }
      ]
    },
    {
      "cell_type": "code",
      "source": [
        "cars[cars['Combined MPG (FT1)']>120]"
      ],
      "metadata": {
        "execution": {
          "iopub.status.busy": "2022-06-30T07:00:18.834999Z",
          "iopub.execute_input": "2022-06-30T07:00:18.835284Z",
          "iopub.status.idle": "2022-06-30T07:00:18.860736Z",
          "shell.execute_reply.started": "2022-06-30T07:00:18.835258Z",
          "shell.execute_reply": "2022-06-30T07:00:18.859770Z"
        },
        "trusted": true,
        "id": "BXuvT6xMcBC6",
        "outputId": "f94d1617-ef44-4f2f-85de-037c8d1a6125"
      },
      "execution_count": null,
      "outputs": [
        {
          "execution_count": 30,
          "output_type": "execute_result",
          "data": {
            "text/plain": "       Vehicle ID  Year     Make                          Model  \\\n32998       33307  2013    Scion                          iQ EV   \n33303       35207  2014      BMW                         i3 BEV   \n34521       36016  2015      BMW                         i3 BEV   \n35768       37216  2016      BMW                         i3 BEV   \n37013       38000  2017      BMW  i3 BEV (60  Amp-hour battery)   \n37451       38431  2017  Hyundai                 Ioniq Electric   \n\n                  Class              Drive                      Transmission  \\\n32998  Minicompact Cars  Front-Wheel Drive  Automatic (variable gear ratios)   \n33303   Subcompact Cars   Rear-Wheel Drive                    Automatic (A1)   \n34521   Subcompact Cars   Rear-Wheel Drive                    Automatic (A1)   \n35768   Subcompact Cars   Rear-Wheel Drive                    Automatic (A1)   \n37013   Subcompact Cars   Rear-Wheel Drive                    Automatic (A1)   \n37451      Midsize Cars  Front-Wheel Drive                    Automatic (A1)   \n\n      Transmission Descriptor  Engine Index Engine Descriptor  \\\n32998                     NaN            21               NaN   \n33303                     NaN           100               NaN   \n34521                     NaN           100               NaN   \n35768                     NaN           100               NaN   \n37013                     NaN           100               NaN   \n37451                     NaN            49               NaN   \n\n       Engine Cylinders  Engine Displacement Turbocharger Supercharger  \\\n32998               NaN                  NaN          NaN          NaN   \n33303               NaN                  NaN          NaN          NaN   \n34521               NaN                  NaN          NaN          NaN   \n35768               NaN                  NaN          NaN          NaN   \n37013               NaN                  NaN          NaN          NaN   \n37451               NaN                  NaN          NaN          NaN   \n\n         Fuel Type  Fuel Type 1  Combined MPG (FT1)  \n32998  Electricity  Electricity                 121  \n33303  Electricity  Electricity                 124  \n34521  Electricity  Electricity                 124  \n35768  Electricity  Electricity                 124  \n37013  Electricity  Electricity                 124  \n37451  Electricity  Electricity                 136  ",
            "text/html": "<div>\n<style scoped>\n    .dataframe tbody tr th:only-of-type {\n        vertical-align: middle;\n    }\n\n    .dataframe tbody tr th {\n        vertical-align: top;\n    }\n\n    .dataframe thead th {\n        text-align: right;\n    }\n</style>\n<table border=\"1\" class=\"dataframe\">\n  <thead>\n    <tr style=\"text-align: right;\">\n      <th></th>\n      <th>Vehicle ID</th>\n      <th>Year</th>\n      <th>Make</th>\n      <th>Model</th>\n      <th>Class</th>\n      <th>Drive</th>\n      <th>Transmission</th>\n      <th>Transmission Descriptor</th>\n      <th>Engine Index</th>\n      <th>Engine Descriptor</th>\n      <th>Engine Cylinders</th>\n      <th>Engine Displacement</th>\n      <th>Turbocharger</th>\n      <th>Supercharger</th>\n      <th>Fuel Type</th>\n      <th>Fuel Type 1</th>\n      <th>Combined MPG (FT1)</th>\n    </tr>\n  </thead>\n  <tbody>\n    <tr>\n      <th>32998</th>\n      <td>33307</td>\n      <td>2013</td>\n      <td>Scion</td>\n      <td>iQ EV</td>\n      <td>Minicompact Cars</td>\n      <td>Front-Wheel Drive</td>\n      <td>Automatic (variable gear ratios)</td>\n      <td>NaN</td>\n      <td>21</td>\n      <td>NaN</td>\n      <td>NaN</td>\n      <td>NaN</td>\n      <td>NaN</td>\n      <td>NaN</td>\n      <td>Electricity</td>\n      <td>Electricity</td>\n      <td>121</td>\n    </tr>\n    <tr>\n      <th>33303</th>\n      <td>35207</td>\n      <td>2014</td>\n      <td>BMW</td>\n      <td>i3 BEV</td>\n      <td>Subcompact Cars</td>\n      <td>Rear-Wheel Drive</td>\n      <td>Automatic (A1)</td>\n      <td>NaN</td>\n      <td>100</td>\n      <td>NaN</td>\n      <td>NaN</td>\n      <td>NaN</td>\n      <td>NaN</td>\n      <td>NaN</td>\n      <td>Electricity</td>\n      <td>Electricity</td>\n      <td>124</td>\n    </tr>\n    <tr>\n      <th>34521</th>\n      <td>36016</td>\n      <td>2015</td>\n      <td>BMW</td>\n      <td>i3 BEV</td>\n      <td>Subcompact Cars</td>\n      <td>Rear-Wheel Drive</td>\n      <td>Automatic (A1)</td>\n      <td>NaN</td>\n      <td>100</td>\n      <td>NaN</td>\n      <td>NaN</td>\n      <td>NaN</td>\n      <td>NaN</td>\n      <td>NaN</td>\n      <td>Electricity</td>\n      <td>Electricity</td>\n      <td>124</td>\n    </tr>\n    <tr>\n      <th>35768</th>\n      <td>37216</td>\n      <td>2016</td>\n      <td>BMW</td>\n      <td>i3 BEV</td>\n      <td>Subcompact Cars</td>\n      <td>Rear-Wheel Drive</td>\n      <td>Automatic (A1)</td>\n      <td>NaN</td>\n      <td>100</td>\n      <td>NaN</td>\n      <td>NaN</td>\n      <td>NaN</td>\n      <td>NaN</td>\n      <td>NaN</td>\n      <td>Electricity</td>\n      <td>Electricity</td>\n      <td>124</td>\n    </tr>\n    <tr>\n      <th>37013</th>\n      <td>38000</td>\n      <td>2017</td>\n      <td>BMW</td>\n      <td>i3 BEV (60  Amp-hour battery)</td>\n      <td>Subcompact Cars</td>\n      <td>Rear-Wheel Drive</td>\n      <td>Automatic (A1)</td>\n      <td>NaN</td>\n      <td>100</td>\n      <td>NaN</td>\n      <td>NaN</td>\n      <td>NaN</td>\n      <td>NaN</td>\n      <td>NaN</td>\n      <td>Electricity</td>\n      <td>Electricity</td>\n      <td>124</td>\n    </tr>\n    <tr>\n      <th>37451</th>\n      <td>38431</td>\n      <td>2017</td>\n      <td>Hyundai</td>\n      <td>Ioniq Electric</td>\n      <td>Midsize Cars</td>\n      <td>Front-Wheel Drive</td>\n      <td>Automatic (A1)</td>\n      <td>NaN</td>\n      <td>49</td>\n      <td>NaN</td>\n      <td>NaN</td>\n      <td>NaN</td>\n      <td>NaN</td>\n      <td>NaN</td>\n      <td>Electricity</td>\n      <td>Electricity</td>\n      <td>136</td>\n    </tr>\n  </tbody>\n</table>\n</div>"
          },
          "metadata": {}
        }
      ]
    },
    {
      "cell_type": "markdown",
      "source": [
        "Makes sense these are all electric cars. It might be worth removing all electric cars because there is obviously no relationship between MPG and the other variables for this type of car (if that is what we're trying to predict)."
      ],
      "metadata": {
        "id": "PuvfUO-0cBC7"
      }
    },
    {
      "cell_type": "markdown",
      "source": [
        "### Missing Values\n",
        "\n",
        "Dealing with missing values is necessary because ML algorithm don't know what to do with _NaN_ values. In most programming languages _NaN_ is a special value that is neither numeric nor character. So it requires manual intervention to make sure _NaN_ values are dealt with correctly.\n",
        "\n",
        "There are a number of strategies we can apply here and they are dependent on what the source of the missing values is. There is various research available on this topic, referred to as missing value imputation, but we'll stick to some simple solutions.\n",
        "\n",
        "#### Errors\n",
        "\n",
        "When missing values are the result of errors, whether in the data gathering part or the data collection part (i.e. wrong query), I think it is best to ignore the records if possible."
      ],
      "metadata": {
        "id": "mQrgDuIIcBC7"
      }
    },
    {
      "cell_type": "code",
      "source": [
        "not_missing_drive = cars['Drive'].notnull()\n",
        "not_missing_drive.sum()"
      ],
      "metadata": {
        "execution": {
          "iopub.status.busy": "2022-06-30T07:00:18.862077Z",
          "iopub.execute_input": "2022-06-30T07:00:18.862534Z",
          "iopub.status.idle": "2022-06-30T07:00:18.872579Z",
          "shell.execute_reply.started": "2022-06-30T07:00:18.862490Z",
          "shell.execute_reply": "2022-06-30T07:00:18.871633Z"
        },
        "trusted": true,
        "id": "61v6M4CfcBC7",
        "outputId": "40415d54-c427-47fc-92de-dfa8a4ea6820"
      },
      "execution_count": null,
      "outputs": [
        {
          "execution_count": 31,
          "output_type": "execute_result",
          "data": {
            "text/plain": "36924"
          },
          "metadata": {}
        }
      ]
    },
    {
      "cell_type": "markdown",
      "source": [
        "#### Laziness\n",
        "\n",
        "Sometimes a missing values implies the information is either not known or not applicable. In these case we simply make it explicit by providing a fill value. There are other methods of \"filling\" the gaps, see the [pandas documentation](https://pandas.pydata.org/pandas-docs/stable/reference/api/pandas.DataFrame.fillna.html) for more information."
      ],
      "metadata": {
        "id": "ZM4ZfWkRcBC7"
      }
    },
    {
      "cell_type": "code",
      "source": [
        "cars['Turbocharger'] = cars['Turbocharger'].fillna('No')\n",
        "cars['Supercharger'] = cars['Supercharger'].fillna('No')"
      ],
      "metadata": {
        "execution": {
          "iopub.status.busy": "2022-06-30T07:00:18.873733Z",
          "iopub.execute_input": "2022-06-30T07:00:18.873996Z",
          "iopub.status.idle": "2022-06-30T07:00:18.895205Z",
          "shell.execute_reply.started": "2022-06-30T07:00:18.873970Z",
          "shell.execute_reply": "2022-06-30T07:00:18.893838Z"
        },
        "trusted": true,
        "id": "Nm1JJaLTcBC8"
      },
      "execution_count": null,
      "outputs": []
    },
    {
      "cell_type": "markdown",
      "source": [
        "### Outliers\n",
        "\n",
        "Outliers can too be caused by errors (e.g. misreading in measurement equipment) or they might not be representative of the relationships we're considering. In either case it's a matter of detecting them and removing them.\n",
        "\n",
        "A simple way of detecting outliers is to consider the mean/median and add one or two standard deviations. Anything above these values can be considered an outlier. "
      ],
      "metadata": {
        "id": "WTebtn8-cBC8"
      }
    },
    {
      "cell_type": "code",
      "source": [
        "no_mpg_outlier = cars['Combined MPG (FT1)'] < (cars['Combined MPG (FT1)'].median() + cars['Combined MPG (FT1)'].std())\n",
        "no_mpg_outlier.sum()"
      ],
      "metadata": {
        "execution": {
          "iopub.status.busy": "2022-06-30T07:00:18.899206Z",
          "iopub.execute_input": "2022-06-30T07:00:18.899502Z",
          "iopub.status.idle": "2022-06-30T07:00:18.907840Z",
          "shell.execute_reply.started": "2022-06-30T07:00:18.899476Z",
          "shell.execute_reply": "2022-06-30T07:00:18.906777Z"
        },
        "trusted": true,
        "id": "9El7T3o3cBC8",
        "outputId": "e1000d93-f731-499e-938c-b22877ea60dc"
      },
      "execution_count": null,
      "outputs": [
        {
          "execution_count": 33,
          "output_type": "execute_result",
          "data": {
            "text/plain": "33313"
          },
          "metadata": {}
        }
      ]
    },
    {
      "cell_type": "code",
      "source": [
        "no_electric_cars = cars['Fuel Type'] != 'Electricity'\n",
        "cars_cleaned = cars[(~duplicates) & (not_missing_drive) & (no_mpg_outlier)]\n",
        "cars_cleaned = cars_cleaned[['Class', 'Drive', 'Engine Cylinders', \n",
        "                             'Engine Displacement', 'Turbocharger','Supercharger', \n",
        "                             'Fuel Type', 'Combined MPG (FT1)']]\n",
        "\n",
        "cars_cleaned.shape"
      ],
      "metadata": {
        "execution": {
          "iopub.status.busy": "2022-06-30T07:00:18.909321Z",
          "iopub.execute_input": "2022-06-30T07:00:18.909709Z",
          "iopub.status.idle": "2022-06-30T07:00:18.929220Z",
          "shell.execute_reply.started": "2022-06-30T07:00:18.909666Z",
          "shell.execute_reply": "2022-06-30T07:00:18.928419Z"
        },
        "trusted": true,
        "id": "d_h9aHYhcBC9",
        "outputId": "85cd122d-a0fe-4618-9177-6abbe7b207d6"
      },
      "execution_count": null,
      "outputs": [
        {
          "execution_count": 34,
          "output_type": "execute_result",
          "data": {
            "text/plain": "(16815, 8)"
          },
          "metadata": {}
        }
      ]
    },
    {
      "cell_type": "markdown",
      "source": [
        "## Relationship Analysis\n",
        "\n",
        "The above is all to do with cleaning the data to make modeling easier. But before we move on to that stage we can still extract some more information from the dataset by looking at relationships between variables. The best way to do this is through visualisations."
      ],
      "metadata": {
        "id": "6hyXXNO7cBC9"
      }
    },
    {
      "cell_type": "code",
      "source": [
        "import seaborn as sns\n",
        "sns.pairplot(cars_cleaned)"
      ],
      "metadata": {
        "execution": {
          "iopub.status.busy": "2022-06-30T07:00:18.930638Z",
          "iopub.execute_input": "2022-06-30T07:00:18.931114Z",
          "iopub.status.idle": "2022-06-30T07:00:22.299203Z",
          "shell.execute_reply.started": "2022-06-30T07:00:18.931079Z",
          "shell.execute_reply": "2022-06-30T07:00:22.298302Z"
        },
        "trusted": true,
        "id": "ZaOvn5CLcBC9",
        "outputId": "dcc41e2c-eda5-43f7-e5cb-d4534bbc8456"
      },
      "execution_count": null,
      "outputs": [
        {
          "execution_count": 35,
          "output_type": "execute_result",
          "data": {
            "text/plain": "<seaborn.axisgrid.PairGrid at 0x7f9bbd569610>"
          },
          "metadata": {}
        },
        {
          "output_type": "display_data",
          "data": {
            "text/plain": "<Figure size 540x540 with 12 Axes>",
            "image/png": "[encoded data removed]"
          },
          "metadata": {
            "needs_background": "light"
          }
        }
      ]
    },
    {
      "cell_type": "markdown",
      "source": [
        "We can see a number of things here:\n",
        "* There are no categorical values, pairplot only shows the numerical values\n",
        "* Pairplot shows the distribution on the diagonal and scatterplots on the off-diagonals\n",
        "* There is a relationship between engine displacement and number of cylinders which makes sense\n",
        "* The number of cylinders is actually a categorical value\n",
        "* There is relationship between displacement and mpg but there is also a lot of noise\n",
        "* This relationship is even weaker between cylinders and mpg, possibly because it's not a numerical value\n",
        "\n",
        "It is typical that midway through your analysis you uncover some insight that requires going back to the preprocessing/cleaning step.\n",
        "\n",
        "### Boxplots\n",
        "\n",
        "When it comes to relationship between categorical values and numerical values, boxplots are the way to go. They display the distribution of the numerical values per category."
      ],
      "metadata": {
        "id": "Ab7sorn_cBC9"
      }
    },
    {
      "cell_type": "code",
      "source": [
        "sns.boxplot(x='Drive', y='Combined MPG (FT1)', data=cars_cleaned)"
      ],
      "metadata": {
        "execution": {
          "iopub.status.busy": "2022-06-30T07:00:22.300389Z",
          "iopub.execute_input": "2022-06-30T07:00:22.300659Z",
          "iopub.status.idle": "2022-06-30T07:00:22.519151Z",
          "shell.execute_reply.started": "2022-06-30T07:00:22.300634Z",
          "shell.execute_reply": "2022-06-30T07:00:22.518197Z"
        },
        "trusted": true,
        "id": "F6VO5oGUcBC-",
        "outputId": "619ccaad-d34b-4b30-a731-a69b4bd3168e"
      },
      "execution_count": null,
      "outputs": [
        {
          "execution_count": 36,
          "output_type": "execute_result",
          "data": {
            "text/plain": "<matplotlib.axes._subplots.AxesSubplot at 0x7f9bb6e15ad0>"
          },
          "metadata": {}
        },
        {
          "output_type": "display_data",
          "data": {
            "text/plain": "<Figure size 432x288 with 1 Axes>",
            "image/png": "[encoded data removed]"
          },
          "metadata": {
            "needs_background": "light"
          }
        }
      ]
    },
    {
      "cell_type": "code",
      "source": [
        "sns.boxplot(x='Turbocharger', y='Combined MPG (FT1)', data=cars_cleaned)"
      ],
      "metadata": {
        "execution": {
          "iopub.status.busy": "2022-06-30T07:00:22.520654Z",
          "iopub.execute_input": "2022-06-30T07:00:22.521089Z",
          "iopub.status.idle": "2022-06-30T07:00:22.657612Z",
          "shell.execute_reply.started": "2022-06-30T07:00:22.521037Z",
          "shell.execute_reply": "2022-06-30T07:00:22.656651Z"
        },
        "trusted": true,
        "id": "hWwKTFfacBC-",
        "outputId": "9f7e41bd-801a-4146-e955-41f9bdb67f65"
      },
      "execution_count": null,
      "outputs": [
        {
          "execution_count": 37,
          "output_type": "execute_result",
          "data": {
            "text/plain": "<matplotlib.axes._subplots.AxesSubplot at 0x7f9bb6ad5dd0>"
          },
          "metadata": {}
        },
        {
          "output_type": "display_data",
          "data": {
            "text/plain": "<Figure size 432x288 with 1 Axes>",
            "image/png": "[encoded data removed]"
          },
          "metadata": {
            "needs_background": "light"
          }
        }
      ]
    },
    {
      "cell_type": "code",
      "source": [
        "sns.boxplot(x='Supercharger', y='Combined MPG (FT1)', data=cars_cleaned)"
      ],
      "metadata": {
        "execution": {
          "iopub.status.busy": "2022-06-30T07:00:22.660830Z",
          "iopub.execute_input": "2022-06-30T07:00:22.661137Z",
          "iopub.status.idle": "2022-06-30T07:00:22.802299Z",
          "shell.execute_reply.started": "2022-06-30T07:00:22.661108Z",
          "shell.execute_reply": "2022-06-30T07:00:22.801126Z"
        },
        "trusted": true,
        "id": "yP7MsULrcBC-",
        "outputId": "b69460c4-cdc6-4673-a118-91ea3dfe140b"
      },
      "execution_count": null,
      "outputs": [
        {
          "execution_count": 38,
          "output_type": "execute_result",
          "data": {
            "text/plain": "<matplotlib.axes._subplots.AxesSubplot at 0x7f9bb6acd6d0>"
          },
          "metadata": {}
        },
        {
          "output_type": "display_data",
          "data": {
            "text/plain": "<Figure size 432x288 with 1 Axes>",
            "image/png": "[encoded data removed]"
          },
          "metadata": {
            "needs_background": "light"
          }
        }
      ]
    },
    {
      "cell_type": "code",
      "source": [
        "sns.boxplot(x='Engine Cylinders', y='Combined MPG (FT1)', data=cars_cleaned)"
      ],
      "metadata": {
        "execution": {
          "iopub.status.busy": "2022-06-30T07:00:22.803611Z",
          "iopub.execute_input": "2022-06-30T07:00:22.803884Z",
          "iopub.status.idle": "2022-06-30T07:00:23.031205Z",
          "shell.execute_reply.started": "2022-06-30T07:00:22.803858Z",
          "shell.execute_reply": "2022-06-30T07:00:23.030137Z"
        },
        "trusted": true,
        "id": "O4EFVL30cBC-",
        "outputId": "63df35f7-f175-4a6a-82ea-92cc35c68cfb"
      },
      "execution_count": null,
      "outputs": [
        {
          "execution_count": 39,
          "output_type": "execute_result",
          "data": {
            "text/plain": "<matplotlib.axes._subplots.AxesSubplot at 0x7f9bb69d9a10>"
          },
          "metadata": {}
        },
        {
          "output_type": "display_data",
          "data": {
            "text/plain": "<Figure size 432x288 with 1 Axes>",
            "image/png": "[encoded data removed]"
          },
          "metadata": {
            "needs_background": "light"
          }
        }
      ]
    },
    {
      "cell_type": "markdown",
      "source": [
        "There are various incarnations of the boxplot (violinplot, swarmplot) that may give you more information but in this case that would be overkill. "
      ],
      "metadata": {
        "id": "7_7Pr2HhcBC_"
      }
    }
  ]
}